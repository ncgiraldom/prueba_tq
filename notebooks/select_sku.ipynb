{
 "cells": [
  {
   "cell_type": "code",
   "execution_count": 1,
   "metadata": {},
   "outputs": [],
   "source": [
    "import pandas as pd\n",
    "import numpy as np\n",
    "from sklearn.cluster import KMeans\n",
    "import plotly.express as px\n",
    "from sklearn.linear_model import LinearRegression"
   ]
  },
  {
   "cell_type": "code",
   "execution_count": 3,
   "metadata": {},
   "outputs": [
    {
     "name": "stdout",
     "output_type": "stream",
     "text": [
      "<class 'pandas.core.frame.DataFrame'>\n",
      "RangeIndex: 2772 entries, 0 to 2771\n",
      "Data columns (total 3 columns):\n",
      " #   Column    Non-Null Count  Dtype \n",
      "---  ------    --------------  ----- \n",
      " 0   Fecha     2772 non-null   object\n",
      " 1   SKU       2772 non-null   object\n",
      " 2   Cantidad  2772 non-null   int64 \n",
      "dtypes: int64(1), object(2)\n",
      "memory usage: 65.1+ KB\n"
     ]
    }
   ],
   "source": [
    "# Path del archivo CSV\n",
    "file_path = \"C:/Users/norma/OneDrive/Tecnoquimicas TQ/prueba_tq/data/data_productos.csv\"\n",
    "\n",
    "# Cargar el archivo CSV\n",
    "df = pd.read_csv(file_path, sep=';')\n",
    "sku_columns = df.columns.tolist()\n",
    "df_mensual = df.melt(id_vars=['Fecha'],\n",
    "                    value_vars=sku_columns,\n",
    "                    var_name='SKU',\n",
    "                    value_name='Cantidad')\n",
    "\n",
    "df_mensual.info()"
   ]
  },
  {
   "cell_type": "code",
   "execution_count": null,
   "metadata": {},
   "outputs": [],
   "source": [
    "# Cálculo de tendencia para cada SKU\n",
    "trends = []\n",
    "for sku, group in df_mensual.groupby('SKU'):\n",
    "    group['Mes'] = pd.to_datetime(group['Fecha']).dt.to_period('M').apply(lambda x: x.ordinal)  # Convertir tiempo a numérico\n",
    "    X = group['Mes'].values.reshape(-1, 1)\n",
    "    y = group['Cantidad'].values.reshape(-1, 1)\n",
    "    if len(group) > 1:  # Asegurar datos suficientes para regresión\n",
    "        reg = LinearRegression().fit(X, y)\n",
    "        trends.append({'SKU': sku, 'Pendiente': reg.coef_[0][0], 'Cantidad_Total': group['Cantidad'].sum()})\n",
    "\n",
    "df_trends = pd.DataFrame(trends)"
   ]
  },
  {
   "cell_type": "code",
   "execution_count": null,
   "metadata": {},
   "outputs": [],
   "source": [
    "# Filtrar productos con altas ventas y tendencia creciente\n",
    "percentil_ventas = np.percentile(df_trends['Cantidad_Total'], 75)\n",
    "productos_filtrados = df_trends[(df_trends['Cantidad_Total'] > percentil_ventas) & (df_trends['Pendiente'] > 0)]"
   ]
  },
  {
   "cell_type": "code",
   "execution_count": 5,
   "metadata": {},
   "outputs": [
    {
     "data": {
      "text/html": [
       "<div>\n",
       "<style scoped>\n",
       "    .dataframe tbody tr th:only-of-type {\n",
       "        vertical-align: middle;\n",
       "    }\n",
       "\n",
       "    .dataframe tbody tr th {\n",
       "        vertical-align: top;\n",
       "    }\n",
       "\n",
       "    .dataframe thead th {\n",
       "        text-align: right;\n",
       "    }\n",
       "</style>\n",
       "<table border=\"1\" class=\"dataframe\">\n",
       "  <thead>\n",
       "    <tr style=\"text-align: right;\">\n",
       "      <th></th>\n",
       "      <th>SKU</th>\n",
       "      <th>Pendiente</th>\n",
       "      <th>Cantidad_Total</th>\n",
       "    </tr>\n",
       "  </thead>\n",
       "  <tbody>\n",
       "    <tr>\n",
       "      <th>28</th>\n",
       "      <td>SKU_29</td>\n",
       "      <td>11.094494</td>\n",
       "      <td>916612</td>\n",
       "    </tr>\n",
       "  </tbody>\n",
       "</table>\n",
       "</div>"
      ],
      "text/plain": [
       "       SKU  Pendiente  Cantidad_Total\n",
       "28  SKU_29  11.094494          916612"
      ]
     },
     "execution_count": 5,
     "metadata": {},
     "output_type": "execute_result"
    }
   ],
   "source": [
    "productos_filtrados.head()"
   ]
  }
 ],
 "metadata": {
  "kernelspec": {
   "display_name": "venv",
   "language": "python",
   "name": "python3"
  },
  "language_info": {
   "codemirror_mode": {
    "name": "ipython",
    "version": 3
   },
   "file_extension": ".py",
   "mimetype": "text/x-python",
   "name": "python",
   "nbconvert_exporter": "python",
   "pygments_lexer": "ipython3",
   "version": "3.11.9"
  }
 },
 "nbformat": 4,
 "nbformat_minor": 2
}
