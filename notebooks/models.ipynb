{
 "cells": [
  {
   "cell_type": "markdown",
   "metadata": {},
   "source": [
    "## Modelamiento Forecasting\n",
    "by: Norma Giraldo"
   ]
  },
  {
   "cell_type": "code",
   "execution_count": 52,
   "metadata": {},
   "outputs": [],
   "source": [
    "import pandas as pd\n",
    "import numpy as np\n",
    "import matplotlib.pyplot as plt\n",
    "import warnings\n",
    "import seaborn as sns\n",
    "import math\n",
    "import dask\n",
    "import dask.dataframe as dd\n",
    "import multiprocessing as mtl\n",
    "from scipy import stats\n",
    "from sklearn.impute import KNNImputer\n",
    "from statsmodels.stats.diagnostic import acorr_ljungbox\n",
    "from statsmodels.tsa.stattools import adfuller, acf, pacf\n",
    "from statsmodels.tsa.seasonal import STL\n",
    "from statsmodels.graphics.tsaplots import plot_acf, plot_pacf\n",
    "from statsmodels.tsa.statespace.sarimax import SARIMAX\n",
    "import statsmodels.api as sm\n",
    "from pmdarima import auto_arima # Para modelado SARIMAX\n",
    "from prophet import Prophet\n",
    "from dask.diagnostics import ProgressBar\n",
    "from sklearn.ensemble import RandomForestRegressor\n",
    "from xgboost import XGBRegressor\n",
    "import tensorflow as tf # Para LSTM\n",
    "from tensorflow.keras.models import Sequential\n",
    "from tensorflow.keras.layers import Dense, LSTM, Dropout\n",
    "from tensorflow.keras.optimizers import Adam\n",
    "from tensorflow.keras.callbacks import EarlyStopping\n",
    "from sklearn.metrics import mean_absolute_percentage_error # Métricas\n",
    "from prophet.diagnostics import cross_validation, performance_metrics\n",
    "import datetime\n",
    "import pickle\n",
    "# Para optimización bayesiana\n",
    "from hyperopt import fmin, tpe, hp, Trials, STATUS_OK\n",
    "sns.set_style(\"whitegrid\")\n",
    "import warnings\n",
    "warnings.filterwarnings(\"ignore\")"
   ]
  },
  {
   "cell_type": "code",
   "execution_count": 53,
   "metadata": {},
   "outputs": [],
   "source": [
    "def cargar_y_preparar_datos(file_path):\n",
    "    \"\"\"\n",
    "    Carga y prepara los datos con manejo adecuado de fechas\n",
    "    \"\"\"\n",
    "    # Cargar el archivo con el formato de fecha correcto\n",
    "    df = pd.read_csv(\n",
    "        file_path, sep=';',             # Especificar el separador de columnas\n",
    "        parse_dates=['Fecha'],          # Especificar la columna de fechas\n",
    "        dayfirst=True                   # Indicar que el formato es DD-MM-YYYY\n",
    "    )\n",
    "    \n",
    "    # Configurar la columna 'Fecha' como índice\n",
    "    df.set_index('Fecha', inplace=True)\n",
    "    df = df.asfreq('MS')\n",
    "    \n",
    "    # Para este análisis, nos enfocamos solo en SKU_25\n",
    "    df_sku25 = df[['SKU_25']]\n",
    "    \n",
    "    return df_sku25"
   ]
  },
  {
   "cell_type": "markdown",
   "metadata": {},
   "source": [
    "### Datos"
   ]
  },
  {
   "cell_type": "code",
   "execution_count": 54,
   "metadata": {},
   "outputs": [
    {
     "data": {
      "text/html": [
       "<div>\n",
       "<style scoped>\n",
       "    .dataframe tbody tr th:only-of-type {\n",
       "        vertical-align: middle;\n",
       "    }\n",
       "\n",
       "    .dataframe tbody tr th {\n",
       "        vertical-align: top;\n",
       "    }\n",
       "\n",
       "    .dataframe thead th {\n",
       "        text-align: right;\n",
       "    }\n",
       "</style>\n",
       "<table border=\"1\" class=\"dataframe\">\n",
       "  <thead>\n",
       "    <tr style=\"text-align: right;\">\n",
       "      <th></th>\n",
       "      <th>SKU_25</th>\n",
       "    </tr>\n",
       "    <tr>\n",
       "      <th>Fecha</th>\n",
       "      <th></th>\n",
       "    </tr>\n",
       "  </thead>\n",
       "  <tbody>\n",
       "    <tr>\n",
       "      <th>2018-01-01</th>\n",
       "      <td>22058</td>\n",
       "    </tr>\n",
       "    <tr>\n",
       "      <th>2018-02-01</th>\n",
       "      <td>23041</td>\n",
       "    </tr>\n",
       "    <tr>\n",
       "      <th>2018-03-01</th>\n",
       "      <td>24590</td>\n",
       "    </tr>\n",
       "    <tr>\n",
       "      <th>2018-04-01</th>\n",
       "      <td>30199</td>\n",
       "    </tr>\n",
       "    <tr>\n",
       "      <th>2018-05-01</th>\n",
       "      <td>26760</td>\n",
       "    </tr>\n",
       "  </tbody>\n",
       "</table>\n",
       "</div>"
      ],
      "text/plain": [
       "            SKU_25\n",
       "Fecha             \n",
       "2018-01-01   22058\n",
       "2018-02-01   23041\n",
       "2018-03-01   24590\n",
       "2018-04-01   30199\n",
       "2018-05-01   26760"
      ]
     },
     "execution_count": 54,
     "metadata": {},
     "output_type": "execute_result"
    }
   ],
   "source": [
    "# Path del archivo CSV\n",
    "file_path = \"C:/Users/norma/OneDrive/Tecnoquimicas TQ/prueba_tq/data/data_productos.csv\"\n",
    "df_sku25 = cargar_y_preparar_datos(file_path)\n",
    "df_sku25.head()"
   ]
  },
  {
   "cell_type": "markdown",
   "metadata": {},
   "source": [
    "### Serie original"
   ]
  },
  {
   "cell_type": "code",
   "execution_count": 4,
   "metadata": {},
   "outputs": [
    {
     "data": {
      "image/png": "[encoded data removed]",
      "text/plain": [
       "<Figure size 1200x300 with 1 Axes>"
      ]
     },
     "metadata": {},
     "output_type": "display_data"
    }
   ],
   "source": [
    "plt.figure(figsize=(12,3))\n",
    "plt.plot(df_sku25.index, df_sku25['SKU_25'], marker='o')\n",
    "plt.title('Serie de tiempo original')\n",
    "plt.xlabel('Fecha')\n",
    "plt.ylabel('SKU_25')\n",
    "plt.show()"
   ]
  },
  {
   "cell_type": "markdown",
   "metadata": {},
   "source": [
    "### Detección de outliers con STL"
   ]
  },
  {
   "cell_type": "code",
   "execution_count": 55,
   "metadata": {},
   "outputs": [
    {
     "name": "stdout",
     "output_type": "stream",
     "text": [
      "Posiciones de outliers detectados:\n",
      "            SKU_25\n",
      "Fecha             \n",
      "2022-07-01   43420\n",
      "2024-02-01   15517\n"
     ]
    }
   ],
   "source": [
    "# Parámetro \"period\" se ajusta a 12 para datos mensuales con estacionalidad anual\n",
    "stl = STL(df_sku25['SKU_25'], period=12, robust=True)\n",
    "res = stl.fit()\n",
    "residuals = res.resid\n",
    "\n",
    "# Umbral de outliers: se puede usar un factor del std de los residuales\n",
    "umbral_std = 3\n",
    "std_res = np.std(residuals)\n",
    "mean_res = np.mean(residuals)\n",
    "\n",
    "outliers_idx = np.where((residuals < mean_res - umbral_std*std_res) | \n",
    "                        (residuals > mean_res + umbral_std*std_res))[0]\n",
    "\n",
    "outliers = df_sku25.iloc[outliers_idx]\n",
    "print(\"Posiciones de outliers detectados:\")\n",
    "print(outliers)"
   ]
  },
  {
   "cell_type": "code",
   "execution_count": 6,
   "metadata": {},
   "outputs": [
    {
     "data": {
      "image/png": "[encoded data removed]",
      "text/plain": [
       "<Figure size 1200x300 with 1 Axes>"
      ]
     },
     "metadata": {},
     "output_type": "display_data"
    }
   ],
   "source": [
    "# Visualizamos\n",
    "plt.figure(figsize=(12,3))\n",
    "plt.plot(df_sku25.index, df_sku25['SKU_25'], label='Original')\n",
    "plt.scatter(outliers.index, outliers['SKU_25'], color='red', label='Outliers', zorder=3)\n",
    "plt.legend()\n",
    "plt.title('Detección de Outliers (STL)')\n",
    "plt.show()"
   ]
  },
  {
   "cell_type": "markdown",
   "metadata": {},
   "source": [
    "### Imputación de outliers con knn"
   ]
  },
  {
   "cell_type": "code",
   "execution_count": 56,
   "metadata": {},
   "outputs": [
    {
     "data": {
      "image/png": "[encoded data removed]",
      "text/plain": [
       "<Figure size 1200x300 with 1 Axes>"
      ]
     },
     "metadata": {},
     "output_type": "display_data"
    }
   ],
   "source": [
    "df_outlier = df_sku25.copy()\n",
    "df_outlier.loc[outliers.index, 'SKU_25'] = np.nan  # Reemplazamos outliers por NaN\n",
    "\n",
    "# KNNImputer necesita una matriz. Convertimos la serie en un DataFrame.\n",
    "imputer = KNNImputer(n_neighbors=3)\n",
    "imputed_values = imputer.fit_transform(df_outlier[['SKU_25']])\n",
    "df_outlier['SKU_25'] = imputed_values\n",
    "\n",
    "plt.figure(figsize=(12,3))\n",
    "plt.plot(df_sku25.index, df_sku25['SKU_25'], label='Original')\n",
    "plt.plot(df_outlier.index, df_outlier['SKU_25'], label='Imputada', linestyle='--')\n",
    "plt.title('Comparación de la serie original vs imputada')\n",
    "plt.legend()\n",
    "plt.show()\n",
    "\n",
    "# Actualizamos df para usar la versión imputada\n",
    "df = df_outlier.copy()"
   ]
  },
  {
   "cell_type": "code",
   "execution_count": 8,
   "metadata": {},
   "outputs": [
    {
     "name": "stdout",
     "output_type": "stream",
     "text": [
      "Estadístico ADF: -3.8645050702128887\n",
      "p-value: 0.002312167932789262\n",
      "Critical Values:\n",
      "   1%, -3.512738056978279\n",
      "Critical Values:\n",
      "   5%, -2.8974898650628984\n",
      "Critical Values:\n",
      "   10%, -2.585948732897085\n"
     ]
    }
   ],
   "source": [
    "result = adfuller(df['SKU_25'], autolag='AIC')\n",
    "print(\"Estadístico ADF:\", result[0])\n",
    "print(\"p-value:\", result[1])\n",
    "for key, value in result[4].items():\n",
    "    print('Critical Values:')\n",
    "    print(f'   {key}, {value}')"
   ]
  },
  {
   "cell_type": "markdown",
   "metadata": {},
   "source": [
    "### ljung_box_test"
   ]
  },
  {
   "cell_type": "code",
   "execution_count": 9,
   "metadata": {},
   "outputs": [],
   "source": [
    "def ljung_box_test(ts, lags=12, alpha=0.05):\n",
    "    \"\"\"\n",
    "    Applies the Ljung-Box test for autocorrelation to a time series.\n",
    "\n",
    "    Args:\n",
    "        ts (pd.Series or np.array): The time series data.\n",
    "        lags (int or list, optional): The number of lags to test. Defaults to 12.\n",
    "        alpha (float, optional): The significance level. Defaults to 0.05.\n",
    "\n",
    "    Returns:\n",
    "        pd.DataFrame: A DataFrame containing the Ljung-Box test results.\n",
    "                      Includes the test statistic, p-value, and a boolean\n",
    "                      indicating whether the null hypothesis (no autocorrelation)\n",
    "                      is rejected.  Also returns the count of lags where \n",
    "                      the null hypothesis is not rejected.\n",
    "    \"\"\"\n",
    "\n",
    "    if isinstance(lags, int):\n",
    "        lags = list(range(1, lags + 1))  # Create a list of lags from 1 to lags\n",
    "\n",
    "    ljungbox_results = pd.DataFrame()\n",
    "    for lag in lags:\n",
    "        lb_result = acorr_ljungbox(ts, lags=[lag], return_df=True)\n",
    "        ljungbox_results = pd.concat([ljungbox_results, lb_result], axis=0)\n",
    "\n",
    "    ljungbox_results['Reject H0'] = ljungbox_results['lb_pvalue'] < alpha  # Corrected comparison\n",
    "    independent_residuals_count = ljungbox_results['Reject H0'].sum() #Count of rejects H0\n",
    "\n",
    "    return ljungbox_results, independent_residuals_count"
   ]
  },
  {
   "cell_type": "code",
   "execution_count": 10,
   "metadata": {},
   "outputs": [
    {
     "name": "stdout",
     "output_type": "stream",
     "text": [
      "lb_stat\n",
      "Number of lags where the null hypothesis (no autocorrelation) is rejected: lb_pvalue\n",
      "\n",
      "Results for specific lags:\n",
      "lb_stat\n",
      "Number of lags where the null hypothesis (no autocorrelation) is rejected: lb_pvalue\n"
     ]
    }
   ],
   "source": [
    "np.random.seed(0)\n",
    "ts = df.copy()\n",
    "\n",
    "ljungbox_df, independent_residuals_count = acorr_ljungbox(ts, lags=12, return_df=True)\n",
    "\n",
    "print(ljungbox_df)\n",
    "print(f\"Number of lags where the null hypothesis (no autocorrelation) is rejected: {independent_residuals_count}\")\n",
    "\n",
    "# Example with a specific list of lags\n",
    "lags_to_test = [1, 3, 5, 7, 9]\n",
    "ljungbox_df_specific, independent_residuals_count_specific = acorr_ljungbox(ts, lags=lags_to_test)\n",
    "print(\"\\nResults for specific lags:\")\n",
    "print(ljungbox_df_specific)\n",
    "print(f\"Number of lags where the null hypothesis (no autocorrelation) is rejected: {independent_residuals_count_specific}\")"
   ]
  },
  {
   "cell_type": "markdown",
   "metadata": {},
   "source": [
    "### Train, test"
   ]
  },
  {
   "cell_type": "code",
   "execution_count": 57,
   "metadata": {},
   "outputs": [],
   "source": [
    "test_size = 12\n",
    "train = df.iloc[:-test_size]\n",
    "test = df.iloc[-test_size:]"
   ]
  },
  {
   "cell_type": "markdown",
   "metadata": {},
   "source": [
    "### SARIMAX"
   ]
  },
  {
   "cell_type": "code",
   "execution_count": 58,
   "metadata": {},
   "outputs": [
    {
     "name": "stdout",
     "output_type": "stream",
     "text": [
      "                               SARIMAX Results                                \n",
      "==============================================================================\n",
      "Dep. Variable:                      y   No. Observations:                   72\n",
      "Model:               SARIMAX(2, 0, 0)   Log Likelihood                -701.128\n",
      "Date:                Tue, 18 Feb 2025   AIC                           1410.256\n",
      "Time:                        08:38:27   BIC                           1419.362\n",
      "Sample:                    01-01-2018   HQIC                          1413.881\n",
      "                         - 12-01-2023                                         \n",
      "Covariance Type:                  opg                                         \n",
      "==============================================================================\n",
      "                 coef    std err          z      P>|z|      [0.025      0.975]\n",
      "------------------------------------------------------------------------------\n",
      "intercept   1.277e+04   3549.666      3.599      0.000    5817.579    1.97e+04\n",
      "ar.L1          0.1834      0.116      1.584      0.113      -0.044       0.410\n",
      "ar.L2          0.2757      0.135      2.045      0.041       0.011       0.540\n",
      "sigma2      1.721e+07      0.900   1.91e+07      0.000    1.72e+07    1.72e+07\n",
      "===================================================================================\n",
      "Ljung-Box (L1) (Q):                   0.03   Jarque-Bera (JB):                 4.19\n",
      "Prob(Q):                              0.86   Prob(JB):                         0.12\n",
      "Heteroskedasticity (H):               5.27   Skew:                             0.43\n",
      "Prob(H) (two-sided):                  0.00   Kurtosis:                         3.81\n",
      "===================================================================================\n",
      "\n",
      "Warnings:\n",
      "[1] Covariance matrix calculated using the outer product of gradients (complex-step).\n",
      "[2] Covariance matrix is singular or near-singular, with condition number 1.13e+23. Standard errors may be unstable.\n",
      "SARIMAX MAPE: 25.149195906955\n"
     ]
    }
   ],
   "source": [
    "# Búsqueda de parámetros con auto_arima\n",
    "stepwise_fit = auto_arima(train['SKU_25'], \n",
    "                          start_p=1, start_q=1,\n",
    "                          max_p=5, max_q=5, \n",
    "                          m=12, # estacionalidad 12\n",
    "                          start_P=0, seasonal=True,\n",
    "                          d=None, D=None,\n",
    "                          trace=False,\n",
    "                          error_action='ignore',  \n",
    "                          suppress_warnings=True, \n",
    "                          stepwise=True)\n",
    "\n",
    "print(stepwise_fit.summary())\n",
    "\n",
    "# Ajustar modelo SARIMAX parámetros encontrados\n",
    "order = stepwise_fit.order\n",
    "seasonal_order = stepwise_fit.seasonal_order\n",
    "\n",
    "sarimax_model = sm.tsa.statespace.SARIMAX(train['SKU_25'],\n",
    "                                          order=order,\n",
    "                                          seasonal_order=seasonal_order,\n",
    "                                          enforce_stationarity=False,\n",
    "                                          enforce_invertibility=False)\n",
    "sarimax_fit = sarimax_model.fit(disp=False)\n",
    "sarimax_pred = sarimax_fit.forecast(steps=test_size)\n",
    "\n",
    "# MAPE\n",
    "sarimax_mape = mean_absolute_percentage_error(test['SKU_25'], sarimax_pred)*100\n",
    "print(\"SARIMAX MAPE:\", sarimax_mape)"
   ]
  },
  {
   "cell_type": "markdown",
   "metadata": {},
   "source": [
    "### LSTM"
   ]
  },
  {
   "cell_type": "code",
   "execution_count": 13,
   "metadata": {},
   "outputs": [
    {
     "name": "stdout",
     "output_type": "stream",
     "text": [
      "\u001b[1m1/1\u001b[0m \u001b[32m━━━━━━━━━━━━━━━━━━━━\u001b[0m\u001b[37m\u001b[0m \u001b[1m0s\u001b[0m 220ms/step\n",
      "LSTM MAPE: 28.371503176782873\n"
     ]
    }
   ],
   "source": [
    "# crear secuencias\n",
    "def create_sequences(series, window_size=1):\n",
    "    X, y = [], []\n",
    "    for i in range(len(series) - window_size):\n",
    "        X.append(series[i:(i + window_size)])\n",
    "        y.append(series[i + window_size])\n",
    "    return np.array(X), np.array(y)\n",
    "\n",
    "# Normalizar los datos\n",
    "from sklearn.preprocessing import MinMaxScaler\n",
    "scaler = MinMaxScaler()\n",
    "train_scaled = scaler.fit_transform(train[['SKU_25']])\n",
    "test_scaled = scaler.transform(test[['SKU_25']])\n",
    "\n",
    "window_size = 3\n",
    "X_train, y_train = create_sequences(train_scaled, window_size)\n",
    "X_test, y_test = create_sequences(test_scaled, window_size)\n",
    "\n",
    "# Reshape para LSTM [samples, timesteps, features]\n",
    "X_train = X_train.reshape((X_train.shape[0], X_train.shape[1], 1))\n",
    "X_test = X_test.reshape((X_test.shape[0], X_test.shape[1], 1))\n",
    "\n",
    "# modelo LSTM\n",
    "model_lstm = Sequential()\n",
    "model_lstm.add(LSTM(50, activation='relu', input_shape=(window_size, 1)))\n",
    "model_lstm.add(Dense(1))\n",
    "model_lstm.compile(optimizer='adam', loss='mse')\n",
    "\n",
    "# Entrenamiento\n",
    "model_lstm.fit(X_train, y_train, epochs=50, batch_size=1, verbose=0)\n",
    "\n",
    "# Predicción\n",
    "lstm_preds_scaled = model_lstm.predict(X_test)\n",
    "# Invertir la escala\n",
    "lstm_preds = scaler.inverse_transform(lstm_preds_scaled)\n",
    "\n",
    "# Alinear la longitud de y_test vs predicciones\n",
    "y_test_inv = test['SKU_25'].values[window_size:]  # las últimas len(X_test) observaciones\n",
    "lstm_mape = mean_absolute_percentage_error(y_test_inv, lstm_preds.flatten()) * 100\n",
    "print(\"LSTM MAPE:\", lstm_mape)"
   ]
  },
  {
   "cell_type": "markdown",
   "metadata": {},
   "source": [
    "### Prophet"
   ]
  },
  {
   "cell_type": "code",
   "execution_count": 14,
   "metadata": {},
   "outputs": [
    {
     "name": "stdout",
     "output_type": "stream",
     "text": [
      "Correlación entre media y desviación estándar: -0.19005010022029942\n",
      "Considerar modelo aditivo\n"
     ]
    }
   ],
   "source": [
    "# Agrupar por año y calcular media y std\n",
    "window_stats = df['SKU_25'].resample('Y').agg(['mean', 'std'])\n",
    "\n",
    "# Identificar que tipo de modelo es conveniente\n",
    "correlation = np.corrcoef(window_stats['mean'], window_stats['std'])[0,1]\n",
    "print(f\"Correlación entre media y desviación estándar: {correlation}\")\n",
    "\n",
    "if correlation > 0.5:\n",
    "    print(\"Considerar modelo multiplicativo\")\n",
    "    m = Prophet(seasonality_mode='multiplicative')\n",
    "else:\n",
    "    print(\"Considerar modelo aditivo\")\n",
    "    m = Prophet()"
   ]
  },
  {
   "cell_type": "code",
   "execution_count": 15,
   "metadata": {},
   "outputs": [
    {
     "name": "stderr",
     "output_type": "stream",
     "text": [
      "22:49:50 - cmdstanpy - INFO - Chain [1] start processing\n",
      "22:49:51 - cmdstanpy - INFO - Chain [1] done processing\n"
     ]
    },
    {
     "name": "stdout",
     "output_type": "stream",
     "text": [
      "Prophet MAPE: 28.113039651831755\n"
     ]
    }
   ],
   "source": [
    "df_prophet = df.reset_index().rename(columns={'Fecha': 'ds', 'SKU_25': 'y'})\n",
    "\n",
    "train_prophet = df_prophet.iloc[:-test_size]\n",
    "test_prophet = df_prophet.iloc[-test_size:]\n",
    "\n",
    "model_prophet = Prophet(yearly_seasonality=True, weekly_seasonality=False, daily_seasonality=False)\n",
    "model_prophet.fit(train_prophet)\n",
    "\n",
    "future = model_prophet.make_future_dataframe(periods=test_size, freq='MS')\n",
    "forecast = model_prophet.predict(future)\n",
    "\n",
    "# Extraer solo el rango de test\n",
    "forecast_test = forecast.iloc[-test_size:][['ds','yhat']]\n",
    "prophet_pred = forecast_test['yhat'].values\n",
    "prophet_mape = mean_absolute_percentage_error(test_prophet['y'], prophet_pred)*100\n",
    "print(\"Prophet MAPE:\", prophet_mape)"
   ]
  },
  {
   "cell_type": "code",
   "execution_count": 16,
   "metadata": {},
   "outputs": [
    {
     "name": "stderr",
     "output_type": "stream",
     "text": [
      "22:49:51 - cmdstanpy - INFO - Chain [1] start processing\n",
      "22:49:51 - cmdstanpy - INFO - Chain [1] done processing\n",
      "22:49:51 - cmdstanpy - INFO - Chain [1] start processing\n"
     ]
    },
    {
     "name": "stdout",
     "output_type": "stream",
     "text": [
      "Fecha 2021-01-01: y_true: 25953.00, y_pred: 18728.85, MAPE: 27.84%\n"
     ]
    },
    {
     "name": "stderr",
     "output_type": "stream",
     "text": [
      "22:49:51 - cmdstanpy - INFO - Chain [1] done processing\n",
      "22:49:51 - cmdstanpy - INFO - Chain [1] start processing\n"
     ]
    },
    {
     "name": "stdout",
     "output_type": "stream",
     "text": [
      "Fecha 2021-02-01: y_true: 24792.00, y_pred: 22939.11, MAPE: 7.47%\n"
     ]
    },
    {
     "name": "stderr",
     "output_type": "stream",
     "text": [
      "22:49:51 - cmdstanpy - INFO - Chain [1] done processing\n",
      "22:49:52 - cmdstanpy - INFO - Chain [1] start processing\n"
     ]
    },
    {
     "name": "stdout",
     "output_type": "stream",
     "text": [
      "Fecha 2021-03-01: y_true: 23033.00, y_pred: 25385.81, MAPE: 10.21%\n"
     ]
    },
    {
     "name": "stderr",
     "output_type": "stream",
     "text": [
      "22:49:52 - cmdstanpy - INFO - Chain [1] done processing\n",
      "22:49:52 - cmdstanpy - INFO - Chain [1] start processing\n"
     ]
    },
    {
     "name": "stdout",
     "output_type": "stream",
     "text": [
      "Fecha 2021-04-01: y_true: 24805.00, y_pred: 30508.47, MAPE: 22.99%\n"
     ]
    },
    {
     "name": "stderr",
     "output_type": "stream",
     "text": [
      "22:49:52 - cmdstanpy - INFO - Chain [1] done processing\n",
      "22:49:52 - cmdstanpy - INFO - Chain [1] start processing\n"
     ]
    },
    {
     "name": "stdout",
     "output_type": "stream",
     "text": [
      "Fecha 2021-05-01: y_true: 31255.00, y_pred: 26255.27, MAPE: 16.00%\n"
     ]
    },
    {
     "name": "stderr",
     "output_type": "stream",
     "text": [
      "22:49:52 - cmdstanpy - INFO - Chain [1] done processing\n",
      "22:49:53 - cmdstanpy - INFO - Chain [1] start processing\n"
     ]
    },
    {
     "name": "stdout",
     "output_type": "stream",
     "text": [
      "Fecha 2021-06-01: y_true: 24643.00, y_pred: 26625.81, MAPE: 8.05%\n"
     ]
    },
    {
     "name": "stderr",
     "output_type": "stream",
     "text": [
      "22:49:53 - cmdstanpy - INFO - Chain [1] done processing\n",
      "22:49:53 - cmdstanpy - INFO - Chain [1] start processing\n"
     ]
    },
    {
     "name": "stdout",
     "output_type": "stream",
     "text": [
      "Fecha 2021-07-01: y_true: 28617.00, y_pred: 23161.29, MAPE: 19.06%\n"
     ]
    },
    {
     "name": "stderr",
     "output_type": "stream",
     "text": [
      "22:49:53 - cmdstanpy - INFO - Chain [1] done processing\n",
      "22:49:53 - cmdstanpy - INFO - Chain [1] start processing\n"
     ]
    },
    {
     "name": "stdout",
     "output_type": "stream",
     "text": [
      "Fecha 2021-08-01: y_true: 26001.00, y_pred: 23957.56, MAPE: 7.86%\n"
     ]
    },
    {
     "name": "stderr",
     "output_type": "stream",
     "text": [
      "22:49:53 - cmdstanpy - INFO - Chain [1] done processing\n",
      "22:49:54 - cmdstanpy - INFO - Chain [1] start processing\n"
     ]
    },
    {
     "name": "stdout",
     "output_type": "stream",
     "text": [
      "Fecha 2021-09-01: y_true: 22892.00, y_pred: 23250.37, MAPE: 1.57%\n"
     ]
    },
    {
     "name": "stderr",
     "output_type": "stream",
     "text": [
      "22:49:54 - cmdstanpy - INFO - Chain [1] done processing\n",
      "22:49:54 - cmdstanpy - INFO - Chain [1] start processing\n"
     ]
    },
    {
     "name": "stdout",
     "output_type": "stream",
     "text": [
      "Fecha 2021-10-01: y_true: 22149.00, y_pred: 23681.68, MAPE: 6.92%\n"
     ]
    },
    {
     "name": "stderr",
     "output_type": "stream",
     "text": [
      "22:49:54 - cmdstanpy - INFO - Chain [1] done processing\n",
      "22:49:54 - cmdstanpy - INFO - Chain [1] start processing\n"
     ]
    },
    {
     "name": "stdout",
     "output_type": "stream",
     "text": [
      "Fecha 2021-11-01: y_true: 26197.00, y_pred: 22103.71, MAPE: 15.63%\n"
     ]
    },
    {
     "name": "stderr",
     "output_type": "stream",
     "text": [
      "22:49:54 - cmdstanpy - INFO - Chain [1] done processing\n",
      "22:49:55 - cmdstanpy - INFO - Chain [1] start processing\n"
     ]
    },
    {
     "name": "stdout",
     "output_type": "stream",
     "text": [
      "Fecha 2021-12-01: y_true: 29249.00, y_pred: 22741.90, MAPE: 22.25%\n"
     ]
    },
    {
     "name": "stderr",
     "output_type": "stream",
     "text": [
      "22:49:55 - cmdstanpy - INFO - Chain [1] done processing\n",
      "22:49:55 - cmdstanpy - INFO - Chain [1] start processing\n"
     ]
    },
    {
     "name": "stdout",
     "output_type": "stream",
     "text": [
      "Fecha 2022-01-01: y_true: 30136.00, y_pred: 26188.53, MAPE: 13.10%\n"
     ]
    },
    {
     "name": "stderr",
     "output_type": "stream",
     "text": [
      "22:49:55 - cmdstanpy - INFO - Chain [1] done processing\n",
      "22:49:55 - cmdstanpy - INFO - Chain [1] start processing\n"
     ]
    },
    {
     "name": "stdout",
     "output_type": "stream",
     "text": [
      "Fecha 2022-02-01: y_true: 38515.00, y_pred: 27077.57, MAPE: 29.70%\n"
     ]
    },
    {
     "name": "stderr",
     "output_type": "stream",
     "text": [
      "22:49:55 - cmdstanpy - INFO - Chain [1] done processing\n",
      "22:49:56 - cmdstanpy - INFO - Chain [1] start processing\n"
     ]
    },
    {
     "name": "stdout",
     "output_type": "stream",
     "text": [
      "Fecha 2022-03-01: y_true: 22471.00, y_pred: 31186.39, MAPE: 38.79%\n"
     ]
    },
    {
     "name": "stderr",
     "output_type": "stream",
     "text": [
      "22:49:56 - cmdstanpy - INFO - Chain [1] done processing\n",
      "22:49:56 - cmdstanpy - INFO - Chain [1] start processing\n"
     ]
    },
    {
     "name": "stdout",
     "output_type": "stream",
     "text": [
      "Fecha 2022-04-01: y_true: 28414.00, y_pred: 31515.23, MAPE: 10.91%\n"
     ]
    },
    {
     "name": "stderr",
     "output_type": "stream",
     "text": [
      "22:49:56 - cmdstanpy - INFO - Chain [1] done processing\n",
      "22:49:56 - cmdstanpy - INFO - Chain [1] start processing\n"
     ]
    },
    {
     "name": "stdout",
     "output_type": "stream",
     "text": [
      "Fecha 2022-05-01: y_true: 22035.00, y_pred: 30149.41, MAPE: 36.83%\n"
     ]
    },
    {
     "name": "stderr",
     "output_type": "stream",
     "text": [
      "22:49:57 - cmdstanpy - INFO - Chain [1] done processing\n",
      "22:49:57 - cmdstanpy - INFO - Chain [1] start processing\n"
     ]
    },
    {
     "name": "stdout",
     "output_type": "stream",
     "text": [
      "Fecha 2022-06-01: y_true: 14769.00, y_pred: 29523.80, MAPE: 99.90%\n"
     ]
    },
    {
     "name": "stderr",
     "output_type": "stream",
     "text": [
      "22:49:57 - cmdstanpy - INFO - Chain [1] done processing\n",
      "22:49:57 - cmdstanpy - INFO - Chain [1] start processing\n"
     ]
    },
    {
     "name": "stdout",
     "output_type": "stream",
     "text": [
      "Fecha 2022-07-01: y_true: 23291.28, y_pred: 26163.47, MAPE: 12.33%\n"
     ]
    },
    {
     "name": "stderr",
     "output_type": "stream",
     "text": [
      "22:49:57 - cmdstanpy - INFO - Chain [1] done processing\n",
      "22:49:57 - cmdstanpy - INFO - Chain [1] start processing\n"
     ]
    },
    {
     "name": "stdout",
     "output_type": "stream",
     "text": [
      "Fecha 2022-08-01: y_true: 19127.00, y_pred: 25134.36, MAPE: 31.41%\n"
     ]
    },
    {
     "name": "stderr",
     "output_type": "stream",
     "text": [
      "22:49:57 - cmdstanpy - INFO - Chain [1] done processing\n",
      "22:49:58 - cmdstanpy - INFO - Chain [1] start processing\n"
     ]
    },
    {
     "name": "stdout",
     "output_type": "stream",
     "text": [
      "Fecha 2022-09-01: y_true: 28276.00, y_pred: 23467.27, MAPE: 17.01%\n"
     ]
    },
    {
     "name": "stderr",
     "output_type": "stream",
     "text": [
      "22:49:58 - cmdstanpy - INFO - Chain [1] done processing\n",
      "22:49:58 - cmdstanpy - INFO - Chain [1] start processing\n"
     ]
    },
    {
     "name": "stdout",
     "output_type": "stream",
     "text": [
      "Fecha 2022-10-01: y_true: 20244.00, y_pred: 23072.70, MAPE: 13.97%\n"
     ]
    },
    {
     "name": "stderr",
     "output_type": "stream",
     "text": [
      "22:49:58 - cmdstanpy - INFO - Chain [1] done processing\n",
      "22:49:58 - cmdstanpy - INFO - Chain [1] start processing\n"
     ]
    },
    {
     "name": "stdout",
     "output_type": "stream",
     "text": [
      "Fecha 2022-11-01: y_true: 34970.00, y_pred: 23391.34, MAPE: 33.11%\n"
     ]
    },
    {
     "name": "stderr",
     "output_type": "stream",
     "text": [
      "22:49:58 - cmdstanpy - INFO - Chain [1] done processing\n",
      "22:49:59 - cmdstanpy - INFO - Chain [1] start processing\n"
     ]
    },
    {
     "name": "stdout",
     "output_type": "stream",
     "text": [
      "Fecha 2022-12-01: y_true: 23636.00, y_pred: 25039.81, MAPE: 5.94%\n"
     ]
    },
    {
     "name": "stderr",
     "output_type": "stream",
     "text": [
      "22:49:59 - cmdstanpy - INFO - Chain [1] done processing\n",
      "22:49:59 - cmdstanpy - INFO - Chain [1] start processing\n"
     ]
    },
    {
     "name": "stdout",
     "output_type": "stream",
     "text": [
      "Fecha 2023-01-01: y_true: 19950.00, y_pred: 27664.44, MAPE: 38.67%\n"
     ]
    },
    {
     "name": "stderr",
     "output_type": "stream",
     "text": [
      "22:49:59 - cmdstanpy - INFO - Chain [1] done processing\n",
      "22:49:59 - cmdstanpy - INFO - Chain [1] start processing\n"
     ]
    },
    {
     "name": "stdout",
     "output_type": "stream",
     "text": [
      "Fecha 2023-02-01: y_true: 30650.00, y_pred: 28588.37, MAPE: 6.73%\n"
     ]
    },
    {
     "name": "stderr",
     "output_type": "stream",
     "text": [
      "22:49:59 - cmdstanpy - INFO - Chain [1] done processing\n",
      "22:49:59 - cmdstanpy - INFO - Chain [1] start processing\n"
     ]
    },
    {
     "name": "stdout",
     "output_type": "stream",
     "text": [
      "Fecha 2023-03-01: y_true: 19111.00, y_pred: 25960.37, MAPE: 35.84%\n"
     ]
    },
    {
     "name": "stderr",
     "output_type": "stream",
     "text": [
      "22:50:00 - cmdstanpy - INFO - Chain [1] done processing\n",
      "22:50:00 - cmdstanpy - INFO - Chain [1] start processing\n"
     ]
    },
    {
     "name": "stdout",
     "output_type": "stream",
     "text": [
      "Fecha 2023-04-01: y_true: 23912.00, y_pred: 28704.30, MAPE: 20.04%\n"
     ]
    },
    {
     "name": "stderr",
     "output_type": "stream",
     "text": [
      "22:50:00 - cmdstanpy - INFO - Chain [1] done processing\n",
      "22:50:00 - cmdstanpy - INFO - Chain [1] start processing\n"
     ]
    },
    {
     "name": "stdout",
     "output_type": "stream",
     "text": [
      "Fecha 2023-05-01: y_true: 25764.00, y_pred: 26230.02, MAPE: 1.81%\n"
     ]
    },
    {
     "name": "stderr",
     "output_type": "stream",
     "text": [
      "22:50:00 - cmdstanpy - INFO - Chain [1] done processing\n",
      "22:50:00 - cmdstanpy - INFO - Chain [1] start processing\n"
     ]
    },
    {
     "name": "stdout",
     "output_type": "stream",
     "text": [
      "Fecha 2023-06-01: y_true: 17640.00, y_pred: 26846.74, MAPE: 52.19%\n"
     ]
    },
    {
     "name": "stderr",
     "output_type": "stream",
     "text": [
      "22:50:01 - cmdstanpy - INFO - Chain [1] done processing\n",
      "22:50:01 - cmdstanpy - INFO - Chain [1] start processing\n"
     ]
    },
    {
     "name": "stdout",
     "output_type": "stream",
     "text": [
      "Fecha 2023-07-01: y_true: 17306.00, y_pred: 25940.72, MAPE: 49.89%\n"
     ]
    },
    {
     "name": "stderr",
     "output_type": "stream",
     "text": [
      "22:50:01 - cmdstanpy - INFO - Chain [1] done processing\n",
      "22:50:01 - cmdstanpy - INFO - Chain [1] start processing\n"
     ]
    },
    {
     "name": "stdout",
     "output_type": "stream",
     "text": [
      "Fecha 2023-08-01: y_true: 15846.00, y_pred: 22400.38, MAPE: 41.36%\n"
     ]
    },
    {
     "name": "stderr",
     "output_type": "stream",
     "text": [
      "22:50:02 - cmdstanpy - INFO - Chain [1] done processing\n",
      "22:50:02 - cmdstanpy - INFO - Chain [1] start processing\n"
     ]
    },
    {
     "name": "stdout",
     "output_type": "stream",
     "text": [
      "Fecha 2023-09-01: y_true: 15561.00, y_pred: 23174.77, MAPE: 48.93%\n"
     ]
    },
    {
     "name": "stderr",
     "output_type": "stream",
     "text": [
      "22:50:02 - cmdstanpy - INFO - Chain [1] done processing\n",
      "22:50:02 - cmdstanpy - INFO - Chain [1] start processing\n"
     ]
    },
    {
     "name": "stdout",
     "output_type": "stream",
     "text": [
      "Fecha 2023-10-01: y_true: 22460.00, y_pred: 18348.55, MAPE: 18.31%\n"
     ]
    },
    {
     "name": "stderr",
     "output_type": "stream",
     "text": [
      "22:50:02 - cmdstanpy - INFO - Chain [1] done processing\n",
      "22:50:02 - cmdstanpy - INFO - Chain [1] start processing\n"
     ]
    },
    {
     "name": "stdout",
     "output_type": "stream",
     "text": [
      "Fecha 2023-11-01: y_true: 20228.00, y_pred: 23372.03, MAPE: 15.54%\n"
     ]
    },
    {
     "name": "stderr",
     "output_type": "stream",
     "text": [
      "22:50:03 - cmdstanpy - INFO - Chain [1] done processing\n",
      "22:50:03 - cmdstanpy - INFO - Chain [1] start processing\n"
     ]
    },
    {
     "name": "stdout",
     "output_type": "stream",
     "text": [
      "Fecha 2023-12-01: y_true: 13340.00, y_pred: 20228.74, MAPE: 51.64%\n"
     ]
    },
    {
     "name": "stderr",
     "output_type": "stream",
     "text": [
      "22:50:03 - cmdstanpy - INFO - Chain [1] done processing\n",
      "22:50:03 - cmdstanpy - INFO - Chain [1] start processing\n"
     ]
    },
    {
     "name": "stdout",
     "output_type": "stream",
     "text": [
      "Fecha 2024-01-01: y_true: 15330.00, y_pred: 21169.24, MAPE: 38.09%\n"
     ]
    },
    {
     "name": "stderr",
     "output_type": "stream",
     "text": [
      "22:50:03 - cmdstanpy - INFO - Chain [1] done processing\n",
      "22:50:03 - cmdstanpy - INFO - Chain [1] start processing\n"
     ]
    },
    {
     "name": "stdout",
     "output_type": "stream",
     "text": [
      "Fecha 2024-02-01: y_true: 23291.28, y_pred: 24050.26, MAPE: 3.26%\n"
     ]
    },
    {
     "name": "stderr",
     "output_type": "stream",
     "text": [
      "22:50:04 - cmdstanpy - INFO - Chain [1] done processing\n",
      "22:50:04 - cmdstanpy - INFO - Chain [1] start processing\n"
     ]
    },
    {
     "name": "stdout",
     "output_type": "stream",
     "text": [
      "Fecha 2024-03-01: y_true: 18148.00, y_pred: 17689.66, MAPE: 2.53%\n"
     ]
    },
    {
     "name": "stderr",
     "output_type": "stream",
     "text": [
      "22:50:04 - cmdstanpy - INFO - Chain [1] done processing\n",
      "22:50:04 - cmdstanpy - INFO - Chain [1] start processing\n"
     ]
    },
    {
     "name": "stdout",
     "output_type": "stream",
     "text": [
      "Fecha 2024-04-01: y_true: 17716.00, y_pred: 23013.47, MAPE: 29.90%\n"
     ]
    },
    {
     "name": "stderr",
     "output_type": "stream",
     "text": [
      "22:50:04 - cmdstanpy - INFO - Chain [1] done processing\n",
      "22:50:04 - cmdstanpy - INFO - Chain [1] start processing\n"
     ]
    },
    {
     "name": "stdout",
     "output_type": "stream",
     "text": [
      "Fecha 2024-05-01: y_true: 25681.00, y_pred: 20774.09, MAPE: 19.11%\n"
     ]
    },
    {
     "name": "stderr",
     "output_type": "stream",
     "text": [
      "22:50:05 - cmdstanpy - INFO - Chain [1] done processing\n",
      "22:50:05 - cmdstanpy - INFO - Chain [1] start processing\n"
     ]
    },
    {
     "name": "stdout",
     "output_type": "stream",
     "text": [
      "Fecha 2024-06-01: y_true: 17542.00, y_pred: 16633.71, MAPE: 5.18%\n"
     ]
    },
    {
     "name": "stderr",
     "output_type": "stream",
     "text": [
      "22:50:05 - cmdstanpy - INFO - Chain [1] done processing\n",
      "22:50:05 - cmdstanpy - INFO - Chain [1] start processing\n"
     ]
    },
    {
     "name": "stdout",
     "output_type": "stream",
     "text": [
      "Fecha 2024-07-01: y_true: 25345.00, y_pred: 17872.63, MAPE: 29.48%\n"
     ]
    },
    {
     "name": "stderr",
     "output_type": "stream",
     "text": [
      "22:50:05 - cmdstanpy - INFO - Chain [1] done processing\n",
      "22:50:06 - cmdstanpy - INFO - Chain [1] start processing\n"
     ]
    },
    {
     "name": "stdout",
     "output_type": "stream",
     "text": [
      "Fecha 2024-08-01: y_true: 14324.00, y_pred: 17666.30, MAPE: 23.33%\n"
     ]
    },
    {
     "name": "stderr",
     "output_type": "stream",
     "text": [
      "22:50:06 - cmdstanpy - INFO - Chain [1] done processing\n",
      "22:50:06 - cmdstanpy - INFO - Chain [1] start processing\n"
     ]
    },
    {
     "name": "stdout",
     "output_type": "stream",
     "text": [
      "Fecha 2024-09-01: y_true: 23664.00, y_pred: 16917.45, MAPE: 28.51%\n"
     ]
    },
    {
     "name": "stderr",
     "output_type": "stream",
     "text": [
      "22:50:06 - cmdstanpy - INFO - Chain [1] done processing\n",
      "22:50:06 - cmdstanpy - INFO - Chain [1] start processing\n"
     ]
    },
    {
     "name": "stdout",
     "output_type": "stream",
     "text": [
      "Fecha 2024-10-01: y_true: 17647.00, y_pred: 15570.49, MAPE: 11.77%\n"
     ]
    },
    {
     "name": "stderr",
     "output_type": "stream",
     "text": [
      "22:50:07 - cmdstanpy - INFO - Chain [1] done processing\n",
      "22:50:07 - cmdstanpy - INFO - Chain [1] start processing\n"
     ]
    },
    {
     "name": "stdout",
     "output_type": "stream",
     "text": [
      "Fecha 2024-11-01: y_true: 29226.00, y_pred: 17599.45, MAPE: 39.78%\n"
     ]
    },
    {
     "name": "stderr",
     "output_type": "stream",
     "text": [
      "22:50:07 - cmdstanpy - INFO - Chain [1] done processing\n"
     ]
    },
    {
     "name": "stdout",
     "output_type": "stream",
     "text": [
      "Fecha 2024-12-01: y_true: 15834.00, y_pred: 18927.23, MAPE: 19.54%\n",
      "\n",
      "MAPE promedio Prophet Backtest: 23.76%\n"
     ]
    }
   ],
   "source": [
    "df_prophet = df.copy().reset_index().rename(columns={'Fecha': 'ds', 'SKU_25': 'y'})\n",
    "df_prophet = df_prophet.sort_values('ds')\n",
    "\n",
    "# Parámetros de Backtesting\n",
    "horizonte = 1         # Pronosticar 1 mes adelante en cada iteración\n",
    "ventana_min = 36      # Ventana mínima de entrenamiento de 36 meses (3 años)\n",
    "test_size = len(df_prophet) - ventana_min  # Número de iteraciones de backtesting\n",
    "\n",
    "prophet_mapes = []\n",
    "predictions = []\n",
    "dates = []\n",
    "\n",
    "for i in range(ventana_min, len(df_prophet)):\n",
    "    # Entrenamiento con datos desde el inicio hasta el mes i\n",
    "    train_data = df_prophet.iloc[:i]\n",
    "    test_data = df_prophet.iloc[i:i+horizonte]  # Pronosticar el siguiente mes\n",
    "    \n",
    "    model = Prophet(yearly_seasonality=True, weekly_seasonality=False, daily_seasonality=False, \n",
    "                        changepoint_prior_scale=0.1, seasonality_prior_scale=5.0, n_changepoints=20)\n",
    "    model.fit(train_data)\n",
    "    \n",
    "    future = model.make_future_dataframe(periods=horizonte, freq='MS')\n",
    "    forecast = model.predict(future)\n",
    "    \n",
    "    # Extraer la predicción para el primer periodo pronosticado\n",
    "    y_pred = forecast.iloc[-horizonte]['yhat']\n",
    "    y_true = test_data.iloc[0]['y']\n",
    "    \n",
    "    mape_val = mean_absolute_percentage_error([y_true], [y_pred]) * 100\n",
    "    prophet_mapes.append(mape_val)\n",
    "    predictions.append(y_pred)\n",
    "    dates.append(test_data.iloc[0]['ds'])\n",
    "    \n",
    "    print(f\"Fecha {test_data.iloc[0]['ds'].date()}: y_true: {y_true:.2f}, y_pred: {y_pred:.2f}, MAPE: {mape_val:.2f}%\")\n",
    "\n",
    "prophet_mape_prom = np.mean(prophet_mapes)\n",
    "print(\"\\nMAPE promedio Prophet Backtest: {:.2f}%\".format(prophet_mape_prom))"
   ]
  },
  {
   "cell_type": "code",
   "execution_count": 17,
   "metadata": {},
   "outputs": [
    {
     "data": {
      "image/png": "[encoded data removed]",
      "text/plain": [
       "<Figure size 1000x500 with 1 Axes>"
      ]
     },
     "metadata": {},
     "output_type": "display_data"
    }
   ],
   "source": [
    "# Graficar resultados\n",
    "plt.figure(figsize=(10,5))\n",
    "plt.plot(dates, [df_prophet[df_prophet['ds']==d]['y'].values[0] for d in dates], marker='o', label='Real')\n",
    "plt.plot(dates, predictions, marker='x', label='Predicción')\n",
    "plt.xlabel('Fecha')\n",
    "plt.ylabel('Ventas')\n",
    "plt.title('Backtesting con Prophet')\n",
    "plt.legend()\n",
    "plt.show()"
   ]
  },
  {
   "cell_type": "code",
   "execution_count": 18,
   "metadata": {},
   "outputs": [
    {
     "name": "stderr",
     "output_type": "stream",
     "text": [
      "22:50:08 - cmdstanpy - INFO - Chain [1] start processing\n",
      "22:50:08 - cmdstanpy - INFO - Chain [1] done processing\n",
      "22:50:08 - cmdstanpy - INFO - Chain [1] start processing\n"
     ]
    },
    {
     "name": "stdout",
     "output_type": "stream",
     "text": [
      "Fecha 2021-01-01: y_true: 25953.00, y_pred: 18728.85, MAPE: 27.84%\n"
     ]
    },
    {
     "name": "stderr",
     "output_type": "stream",
     "text": [
      "22:50:08 - cmdstanpy - INFO - Chain [1] done processing\n",
      "22:50:08 - cmdstanpy - INFO - Chain [1] start processing\n"
     ]
    },
    {
     "name": "stdout",
     "output_type": "stream",
     "text": [
      "Fecha 2021-02-01: y_true: 24792.00, y_pred: 22939.11, MAPE: 7.47%\n"
     ]
    },
    {
     "name": "stderr",
     "output_type": "stream",
     "text": [
      "22:50:08 - cmdstanpy - INFO - Chain [1] done processing\n",
      "22:50:09 - cmdstanpy - INFO - Chain [1] start processing\n"
     ]
    },
    {
     "name": "stdout",
     "output_type": "stream",
     "text": [
      "Fecha 2021-03-01: y_true: 23033.00, y_pred: 25385.81, MAPE: 10.21%\n"
     ]
    },
    {
     "name": "stderr",
     "output_type": "stream",
     "text": [
      "22:50:09 - cmdstanpy - INFO - Chain [1] done processing\n",
      "22:50:09 - cmdstanpy - INFO - Chain [1] start processing\n"
     ]
    },
    {
     "name": "stdout",
     "output_type": "stream",
     "text": [
      "Fecha 2021-04-01: y_true: 24805.00, y_pred: 30508.47, MAPE: 22.99%\n"
     ]
    },
    {
     "name": "stderr",
     "output_type": "stream",
     "text": [
      "22:50:09 - cmdstanpy - INFO - Chain [1] done processing\n",
      "22:50:09 - cmdstanpy - INFO - Chain [1] start processing\n"
     ]
    },
    {
     "name": "stdout",
     "output_type": "stream",
     "text": [
      "Fecha 2021-05-01: y_true: 31255.00, y_pred: 26255.27, MAPE: 16.00%\n"
     ]
    },
    {
     "name": "stderr",
     "output_type": "stream",
     "text": [
      "22:50:09 - cmdstanpy - INFO - Chain [1] done processing\n",
      "22:50:10 - cmdstanpy - INFO - Chain [1] start processing\n"
     ]
    },
    {
     "name": "stdout",
     "output_type": "stream",
     "text": [
      "Fecha 2021-06-01: y_true: 24643.00, y_pred: 26625.81, MAPE: 8.05%\n"
     ]
    },
    {
     "name": "stderr",
     "output_type": "stream",
     "text": [
      "22:50:10 - cmdstanpy - INFO - Chain [1] done processing\n",
      "22:50:10 - cmdstanpy - INFO - Chain [1] start processing\n"
     ]
    },
    {
     "name": "stdout",
     "output_type": "stream",
     "text": [
      "Fecha 2021-07-01: y_true: 28617.00, y_pred: 23161.29, MAPE: 19.06%\n"
     ]
    },
    {
     "name": "stderr",
     "output_type": "stream",
     "text": [
      "22:50:10 - cmdstanpy - INFO - Chain [1] done processing\n",
      "22:50:10 - cmdstanpy - INFO - Chain [1] start processing\n"
     ]
    },
    {
     "name": "stdout",
     "output_type": "stream",
     "text": [
      "Fecha 2021-08-01: y_true: 26001.00, y_pred: 23957.56, MAPE: 7.86%\n"
     ]
    },
    {
     "name": "stderr",
     "output_type": "stream",
     "text": [
      "22:50:10 - cmdstanpy - INFO - Chain [1] done processing\n",
      "22:50:11 - cmdstanpy - INFO - Chain [1] start processing\n"
     ]
    },
    {
     "name": "stdout",
     "output_type": "stream",
     "text": [
      "Fecha 2021-09-01: y_true: 22892.00, y_pred: 23250.37, MAPE: 1.57%\n"
     ]
    },
    {
     "name": "stderr",
     "output_type": "stream",
     "text": [
      "22:50:11 - cmdstanpy - INFO - Chain [1] done processing\n",
      "22:50:11 - cmdstanpy - INFO - Chain [1] start processing\n"
     ]
    },
    {
     "name": "stdout",
     "output_type": "stream",
     "text": [
      "Fecha 2021-10-01: y_true: 22149.00, y_pred: 23681.68, MAPE: 6.92%\n"
     ]
    },
    {
     "name": "stderr",
     "output_type": "stream",
     "text": [
      "22:50:11 - cmdstanpy - INFO - Chain [1] done processing\n",
      "22:50:11 - cmdstanpy - INFO - Chain [1] start processing\n"
     ]
    },
    {
     "name": "stdout",
     "output_type": "stream",
     "text": [
      "Fecha 2021-11-01: y_true: 26197.00, y_pred: 22103.71, MAPE: 15.63%\n"
     ]
    },
    {
     "name": "stderr",
     "output_type": "stream",
     "text": [
      "22:50:11 - cmdstanpy - INFO - Chain [1] done processing\n",
      "22:50:12 - cmdstanpy - INFO - Chain [1] start processing\n"
     ]
    },
    {
     "name": "stdout",
     "output_type": "stream",
     "text": [
      "Fecha 2021-12-01: y_true: 29249.00, y_pred: 22741.90, MAPE: 22.25%\n"
     ]
    },
    {
     "name": "stderr",
     "output_type": "stream",
     "text": [
      "22:50:12 - cmdstanpy - INFO - Chain [1] done processing\n",
      "22:50:12 - cmdstanpy - INFO - Chain [1] start processing\n"
     ]
    },
    {
     "name": "stdout",
     "output_type": "stream",
     "text": [
      "Fecha 2022-01-01: y_true: 30136.00, y_pred: 26188.53, MAPE: 13.10%\n"
     ]
    },
    {
     "name": "stderr",
     "output_type": "stream",
     "text": [
      "22:50:12 - cmdstanpy - INFO - Chain [1] done processing\n",
      "22:50:12 - cmdstanpy - INFO - Chain [1] start processing\n"
     ]
    },
    {
     "name": "stdout",
     "output_type": "stream",
     "text": [
      "Fecha 2022-02-01: y_true: 38515.00, y_pred: 27077.57, MAPE: 29.70%\n"
     ]
    },
    {
     "name": "stderr",
     "output_type": "stream",
     "text": [
      "22:50:12 - cmdstanpy - INFO - Chain [1] done processing\n",
      "22:50:13 - cmdstanpy - INFO - Chain [1] start processing\n"
     ]
    },
    {
     "name": "stdout",
     "output_type": "stream",
     "text": [
      "Fecha 2022-03-01: y_true: 22471.00, y_pred: 31186.39, MAPE: 38.79%\n"
     ]
    },
    {
     "name": "stderr",
     "output_type": "stream",
     "text": [
      "22:50:13 - cmdstanpy - INFO - Chain [1] done processing\n",
      "22:50:13 - cmdstanpy - INFO - Chain [1] start processing\n"
     ]
    },
    {
     "name": "stdout",
     "output_type": "stream",
     "text": [
      "Fecha 2022-04-01: y_true: 28414.00, y_pred: 31515.23, MAPE: 10.91%\n"
     ]
    },
    {
     "name": "stderr",
     "output_type": "stream",
     "text": [
      "22:50:13 - cmdstanpy - INFO - Chain [1] done processing\n",
      "22:50:13 - cmdstanpy - INFO - Chain [1] start processing\n"
     ]
    },
    {
     "name": "stdout",
     "output_type": "stream",
     "text": [
      "Fecha 2022-05-01: y_true: 22035.00, y_pred: 30149.41, MAPE: 36.83%\n"
     ]
    },
    {
     "name": "stderr",
     "output_type": "stream",
     "text": [
      "22:50:14 - cmdstanpy - INFO - Chain [1] done processing\n",
      "22:50:14 - cmdstanpy - INFO - Chain [1] start processing\n"
     ]
    },
    {
     "name": "stdout",
     "output_type": "stream",
     "text": [
      "Fecha 2022-06-01: y_true: 14769.00, y_pred: 29523.80, MAPE: 99.90%\n"
     ]
    },
    {
     "name": "stderr",
     "output_type": "stream",
     "text": [
      "22:50:14 - cmdstanpy - INFO - Chain [1] done processing\n",
      "22:50:14 - cmdstanpy - INFO - Chain [1] start processing\n"
     ]
    },
    {
     "name": "stdout",
     "output_type": "stream",
     "text": [
      "Fecha 2022-07-01: y_true: 23291.28, y_pred: 26163.47, MAPE: 12.33%\n"
     ]
    },
    {
     "name": "stderr",
     "output_type": "stream",
     "text": [
      "22:50:14 - cmdstanpy - INFO - Chain [1] done processing\n",
      "22:50:14 - cmdstanpy - INFO - Chain [1] start processing\n"
     ]
    },
    {
     "name": "stdout",
     "output_type": "stream",
     "text": [
      "Fecha 2022-08-01: y_true: 19127.00, y_pred: 25134.36, MAPE: 31.41%\n"
     ]
    },
    {
     "name": "stderr",
     "output_type": "stream",
     "text": [
      "22:50:15 - cmdstanpy - INFO - Chain [1] done processing\n",
      "22:50:15 - cmdstanpy - INFO - Chain [1] start processing\n"
     ]
    },
    {
     "name": "stdout",
     "output_type": "stream",
     "text": [
      "Fecha 2022-09-01: y_true: 28276.00, y_pred: 23467.27, MAPE: 17.01%\n"
     ]
    },
    {
     "name": "stderr",
     "output_type": "stream",
     "text": [
      "22:50:15 - cmdstanpy - INFO - Chain [1] done processing\n",
      "22:50:15 - cmdstanpy - INFO - Chain [1] start processing\n"
     ]
    },
    {
     "name": "stdout",
     "output_type": "stream",
     "text": [
      "Fecha 2022-10-01: y_true: 20244.00, y_pred: 23072.70, MAPE: 13.97%\n"
     ]
    },
    {
     "name": "stderr",
     "output_type": "stream",
     "text": [
      "22:50:15 - cmdstanpy - INFO - Chain [1] done processing\n",
      "22:50:15 - cmdstanpy - INFO - Chain [1] start processing\n"
     ]
    },
    {
     "name": "stdout",
     "output_type": "stream",
     "text": [
      "Fecha 2022-11-01: y_true: 34970.00, y_pred: 23391.34, MAPE: 33.11%\n"
     ]
    },
    {
     "name": "stderr",
     "output_type": "stream",
     "text": [
      "22:50:16 - cmdstanpy - INFO - Chain [1] done processing\n",
      "22:50:16 - cmdstanpy - INFO - Chain [1] start processing\n"
     ]
    },
    {
     "name": "stdout",
     "output_type": "stream",
     "text": [
      "Fecha 2022-12-01: y_true: 23636.00, y_pred: 25039.81, MAPE: 5.94%\n"
     ]
    },
    {
     "name": "stderr",
     "output_type": "stream",
     "text": [
      "22:50:16 - cmdstanpy - INFO - Chain [1] done processing\n",
      "22:50:16 - cmdstanpy - INFO - Chain [1] start processing\n"
     ]
    },
    {
     "name": "stdout",
     "output_type": "stream",
     "text": [
      "Fecha 2023-01-01: y_true: 19950.00, y_pred: 27664.44, MAPE: 38.67%\n"
     ]
    },
    {
     "name": "stderr",
     "output_type": "stream",
     "text": [
      "22:50:16 - cmdstanpy - INFO - Chain [1] done processing\n",
      "22:50:16 - cmdstanpy - INFO - Chain [1] start processing\n"
     ]
    },
    {
     "name": "stdout",
     "output_type": "stream",
     "text": [
      "Fecha 2023-02-01: y_true: 30650.00, y_pred: 28588.37, MAPE: 6.73%\n"
     ]
    },
    {
     "name": "stderr",
     "output_type": "stream",
     "text": [
      "22:50:17 - cmdstanpy - INFO - Chain [1] done processing\n",
      "22:50:17 - cmdstanpy - INFO - Chain [1] start processing\n"
     ]
    },
    {
     "name": "stdout",
     "output_type": "stream",
     "text": [
      "Fecha 2023-03-01: y_true: 19111.00, y_pred: 25960.37, MAPE: 35.84%\n"
     ]
    },
    {
     "name": "stderr",
     "output_type": "stream",
     "text": [
      "22:50:17 - cmdstanpy - INFO - Chain [1] done processing\n",
      "22:50:17 - cmdstanpy - INFO - Chain [1] start processing\n"
     ]
    },
    {
     "name": "stdout",
     "output_type": "stream",
     "text": [
      "Fecha 2023-04-01: y_true: 23912.00, y_pred: 28704.30, MAPE: 20.04%\n"
     ]
    },
    {
     "name": "stderr",
     "output_type": "stream",
     "text": [
      "22:50:17 - cmdstanpy - INFO - Chain [1] done processing\n",
      "22:50:17 - cmdstanpy - INFO - Chain [1] start processing\n"
     ]
    },
    {
     "name": "stdout",
     "output_type": "stream",
     "text": [
      "Fecha 2023-05-01: y_true: 25764.00, y_pred: 26230.02, MAPE: 1.81%\n"
     ]
    },
    {
     "name": "stderr",
     "output_type": "stream",
     "text": [
      "22:50:18 - cmdstanpy - INFO - Chain [1] done processing\n",
      "22:50:18 - cmdstanpy - INFO - Chain [1] start processing\n"
     ]
    },
    {
     "name": "stdout",
     "output_type": "stream",
     "text": [
      "Fecha 2023-06-01: y_true: 17640.00, y_pred: 26846.74, MAPE: 52.19%\n"
     ]
    },
    {
     "name": "stderr",
     "output_type": "stream",
     "text": [
      "22:50:18 - cmdstanpy - INFO - Chain [1] done processing\n",
      "22:50:18 - cmdstanpy - INFO - Chain [1] start processing\n"
     ]
    },
    {
     "name": "stdout",
     "output_type": "stream",
     "text": [
      "Fecha 2023-07-01: y_true: 17306.00, y_pred: 25940.72, MAPE: 49.89%\n"
     ]
    },
    {
     "name": "stderr",
     "output_type": "stream",
     "text": [
      "22:50:18 - cmdstanpy - INFO - Chain [1] done processing\n",
      "22:50:18 - cmdstanpy - INFO - Chain [1] start processing\n"
     ]
    },
    {
     "name": "stdout",
     "output_type": "stream",
     "text": [
      "Fecha 2023-08-01: y_true: 15846.00, y_pred: 22400.38, MAPE: 41.36%\n"
     ]
    },
    {
     "name": "stderr",
     "output_type": "stream",
     "text": [
      "22:50:19 - cmdstanpy - INFO - Chain [1] done processing\n",
      "22:50:19 - cmdstanpy - INFO - Chain [1] start processing\n"
     ]
    },
    {
     "name": "stdout",
     "output_type": "stream",
     "text": [
      "Fecha 2023-09-01: y_true: 15561.00, y_pred: 23174.77, MAPE: 48.93%\n"
     ]
    },
    {
     "name": "stderr",
     "output_type": "stream",
     "text": [
      "22:50:19 - cmdstanpy - INFO - Chain [1] done processing\n",
      "22:50:19 - cmdstanpy - INFO - Chain [1] start processing\n"
     ]
    },
    {
     "name": "stdout",
     "output_type": "stream",
     "text": [
      "Fecha 2023-10-01: y_true: 22460.00, y_pred: 18348.55, MAPE: 18.31%\n"
     ]
    },
    {
     "name": "stderr",
     "output_type": "stream",
     "text": [
      "22:50:20 - cmdstanpy - INFO - Chain [1] done processing\n",
      "22:50:20 - cmdstanpy - INFO - Chain [1] start processing\n"
     ]
    },
    {
     "name": "stdout",
     "output_type": "stream",
     "text": [
      "Fecha 2023-11-01: y_true: 20228.00, y_pred: 23372.03, MAPE: 15.54%\n"
     ]
    },
    {
     "name": "stderr",
     "output_type": "stream",
     "text": [
      "22:50:20 - cmdstanpy - INFO - Chain [1] done processing\n",
      "22:50:20 - cmdstanpy - INFO - Chain [1] start processing\n"
     ]
    },
    {
     "name": "stdout",
     "output_type": "stream",
     "text": [
      "Fecha 2023-12-01: y_true: 13340.00, y_pred: 20228.74, MAPE: 51.64%\n"
     ]
    },
    {
     "name": "stderr",
     "output_type": "stream",
     "text": [
      "22:50:20 - cmdstanpy - INFO - Chain [1] done processing\n",
      "22:50:20 - cmdstanpy - INFO - Chain [1] start processing\n"
     ]
    },
    {
     "name": "stdout",
     "output_type": "stream",
     "text": [
      "Fecha 2024-01-01: y_true: 15330.00, y_pred: 21169.24, MAPE: 38.09%\n"
     ]
    },
    {
     "name": "stderr",
     "output_type": "stream",
     "text": [
      "22:50:21 - cmdstanpy - INFO - Chain [1] done processing\n",
      "22:50:21 - cmdstanpy - INFO - Chain [1] start processing\n"
     ]
    },
    {
     "name": "stdout",
     "output_type": "stream",
     "text": [
      "Fecha 2024-02-01: y_true: 23291.28, y_pred: 24050.26, MAPE: 3.26%\n"
     ]
    },
    {
     "name": "stderr",
     "output_type": "stream",
     "text": [
      "22:50:21 - cmdstanpy - INFO - Chain [1] done processing\n",
      "22:50:21 - cmdstanpy - INFO - Chain [1] start processing\n"
     ]
    },
    {
     "name": "stdout",
     "output_type": "stream",
     "text": [
      "Fecha 2024-03-01: y_true: 18148.00, y_pred: 17689.66, MAPE: 2.53%\n"
     ]
    },
    {
     "name": "stderr",
     "output_type": "stream",
     "text": [
      "22:50:21 - cmdstanpy - INFO - Chain [1] done processing\n",
      "22:50:22 - cmdstanpy - INFO - Chain [1] start processing\n"
     ]
    },
    {
     "name": "stdout",
     "output_type": "stream",
     "text": [
      "Fecha 2024-04-01: y_true: 17716.00, y_pred: 23013.47, MAPE: 29.90%\n"
     ]
    },
    {
     "name": "stderr",
     "output_type": "stream",
     "text": [
      "22:50:22 - cmdstanpy - INFO - Chain [1] done processing\n",
      "22:50:22 - cmdstanpy - INFO - Chain [1] start processing\n"
     ]
    },
    {
     "name": "stdout",
     "output_type": "stream",
     "text": [
      "Fecha 2024-05-01: y_true: 25681.00, y_pred: 20774.09, MAPE: 19.11%\n"
     ]
    },
    {
     "name": "stderr",
     "output_type": "stream",
     "text": [
      "22:50:22 - cmdstanpy - INFO - Chain [1] done processing\n",
      "22:50:22 - cmdstanpy - INFO - Chain [1] start processing\n"
     ]
    },
    {
     "name": "stdout",
     "output_type": "stream",
     "text": [
      "Fecha 2024-06-01: y_true: 17542.00, y_pred: 16633.71, MAPE: 5.18%\n"
     ]
    },
    {
     "name": "stderr",
     "output_type": "stream",
     "text": [
      "22:50:23 - cmdstanpy - INFO - Chain [1] done processing\n",
      "22:50:23 - cmdstanpy - INFO - Chain [1] start processing\n"
     ]
    },
    {
     "name": "stdout",
     "output_type": "stream",
     "text": [
      "Fecha 2024-07-01: y_true: 25345.00, y_pred: 17872.63, MAPE: 29.48%\n"
     ]
    },
    {
     "name": "stderr",
     "output_type": "stream",
     "text": [
      "22:50:23 - cmdstanpy - INFO - Chain [1] done processing\n",
      "22:50:23 - cmdstanpy - INFO - Chain [1] start processing\n"
     ]
    },
    {
     "name": "stdout",
     "output_type": "stream",
     "text": [
      "Fecha 2024-08-01: y_true: 14324.00, y_pred: 17666.30, MAPE: 23.33%\n"
     ]
    },
    {
     "name": "stderr",
     "output_type": "stream",
     "text": [
      "22:50:23 - cmdstanpy - INFO - Chain [1] done processing\n",
      "22:50:23 - cmdstanpy - INFO - Chain [1] start processing\n"
     ]
    },
    {
     "name": "stdout",
     "output_type": "stream",
     "text": [
      "Fecha 2024-09-01: y_true: 23664.00, y_pred: 16917.45, MAPE: 28.51%\n"
     ]
    },
    {
     "name": "stderr",
     "output_type": "stream",
     "text": [
      "22:50:24 - cmdstanpy - INFO - Chain [1] done processing\n",
      "22:50:24 - cmdstanpy - INFO - Chain [1] start processing\n"
     ]
    },
    {
     "name": "stdout",
     "output_type": "stream",
     "text": [
      "Fecha 2024-10-01: y_true: 17647.00, y_pred: 15570.49, MAPE: 11.77%\n"
     ]
    },
    {
     "name": "stderr",
     "output_type": "stream",
     "text": [
      "22:50:24 - cmdstanpy - INFO - Chain [1] done processing\n",
      "22:50:24 - cmdstanpy - INFO - Chain [1] start processing\n"
     ]
    },
    {
     "name": "stdout",
     "output_type": "stream",
     "text": [
      "Fecha 2024-11-01: y_true: 29226.00, y_pred: 17599.45, MAPE: 39.78%\n"
     ]
    },
    {
     "name": "stderr",
     "output_type": "stream",
     "text": [
      "22:50:25 - cmdstanpy - INFO - Chain [1] done processing\n"
     ]
    },
    {
     "name": "stdout",
     "output_type": "stream",
     "text": [
      "Fecha 2024-12-01: y_true: 15834.00, y_pred: 18927.23, MAPE: 19.54%\n",
      "\n",
      "MAPE promedio Prophet Backtest: 23.76%\n",
      "El mejor MAPE fue 1.57% en la iteración 44.\n"
     ]
    }
   ],
   "source": [
    "df_prophet = df.copy().reset_index().rename(columns={'Fecha': 'ds', 'SKU_25': 'y'})\n",
    "df_prophet['ds'] = pd.to_datetime(df_prophet['ds'])\n",
    "df_prophet = df_prophet.sort_values('ds').reset_index(drop=True)\n",
    "\n",
    "# Parámetros de Backtesting\n",
    "horizonte = 1         # Pronosticar 1 mes adelante en cada iteración\n",
    "ventana_min = 36      # Ventana mínima de entrenamiento de 36 meses (3 años)\n",
    "test_size = len(df_prophet) - ventana_min  # Número de iteraciones de backtesting\n",
    "\n",
    "prophet_mapes = []\n",
    "predictions = []\n",
    "dates = []\n",
    "\n",
    "best_mape = float('inf')\n",
    "best_model = None  # Aquí guardaremos el modelo que tenga el menor MAPE\n",
    "best_iteration = None\n",
    "\n",
    "for i in range(ventana_min, len(df_prophet)):\n",
    "    # Entrenamiento con datos desde el inicio hasta el mes i\n",
    "    train_data = df_prophet.iloc[:i]\n",
    "    test_data = df_prophet.iloc[i:i+horizonte]  # Pronosticar el siguiente mes\n",
    "    \n",
    "    model = Prophet(yearly_seasonality=True,\n",
    "                    weekly_seasonality=False,\n",
    "                    daily_seasonality=False, \n",
    "                    changepoint_prior_scale=0.1,\n",
    "                    seasonality_prior_scale=5.0,\n",
    "                    n_changepoints=20)\n",
    "    model.fit(train_data)\n",
    "    \n",
    "    future = model.make_future_dataframe(periods=horizonte, freq='MS')\n",
    "    forecast = model.predict(future)\n",
    "    \n",
    "    # Extraer la predicción para el primer periodo pronosticado\n",
    "    y_pred = forecast.iloc[-horizonte]['yhat']\n",
    "    y_true = test_data.iloc[0]['y']\n",
    "    \n",
    "    mape_val = mean_absolute_percentage_error([y_true], [y_pred]) * 100\n",
    "    prophet_mapes.append(mape_val)\n",
    "    predictions.append(y_pred)\n",
    "    dates.append(test_data.iloc[0]['ds'])\n",
    "    \n",
    "    print(f\"Fecha {test_data.iloc[0]['ds'].date()}: y_true: {y_true:.2f}, y_pred: {y_pred:.2f}, MAPE: {mape_val:.2f}%\")\n",
    "    \n",
    "    # Si en esta iteración el MAPE es menor al mejor encontrado, guardamos este modelo\n",
    "    if mape_val < best_mape:\n",
    "        best_mape = mape_val\n",
    "        best_model = model  # Guardamos el modelo entrenado en esta iteración\n",
    "        best_iteration = i\n",
    "\n",
    "prophet_mape_prom = np.mean(prophet_mapes)\n",
    "print(\"\\nMAPE promedio Prophet Backtest: {:.2f}%\".format(prophet_mape_prom))\n",
    "print(f\"El mejor MAPE fue {best_mape:.2f}% en la iteración {best_iteration}.\")\n",
    "\n",
    "# Guardar el mejor modelo en disco usando pickle\n",
    "with open(\"C:/Users/norma/OneDrive/Tecnoquimicas TQ/prueba_tq/models/best_prophet_model.pkl\", \"wb\") as f:\n",
    "    pickle.dump(best_model, f)"
   ]
  },
  {
   "cell_type": "markdown",
   "metadata": {},
   "source": [
    "### Medias moviles"
   ]
  },
  {
   "cell_type": "code",
   "execution_count": 19,
   "metadata": {},
   "outputs": [
    {
     "name": "stdout",
     "output_type": "stream",
     "text": [
      "Media Móvil (3) MAPE: 25.573689249078413\n"
     ]
    }
   ],
   "source": [
    "df_ma = df.copy()\n",
    "df_ma['MA_3'] = df_ma['SKU_25'].rolling(window=3).mean()\n",
    "\n",
    "# Vamos a predecir en el período de test usando la MA_3\n",
    "# la predicción de un mes t es la media de los 3 meses previos.\n",
    "pred_ma = []\n",
    "for i in range(len(train), len(df_ma)):\n",
    "    # i es el índice en df_ma\n",
    "    # la predicción en i es la media de i-1, i-2, i-3\n",
    "    window_data = df_ma['SKU_25'].iloc[i-3:i]\n",
    "    pred_ma.append(window_data.mean())\n",
    "\n",
    "test_ma = test.copy()\n",
    "test_ma['MA_pred'] = pred_ma  # alineado con test\n",
    "\n",
    "ma_mape = mean_absolute_percentage_error(test_ma['SKU_25'], test_ma['MA_pred']) * 100\n",
    "print(\"Media Móvil (3) MAPE:\", ma_mape)"
   ]
  },
  {
   "cell_type": "markdown",
   "metadata": {},
   "source": [
    "### Evaluación de todos los modelos"
   ]
  },
  {
   "cell_type": "code",
   "execution_count": 20,
   "metadata": {},
   "outputs": [
    {
     "name": "stdout",
     "output_type": "stream",
     "text": [
      "SARIMAX -> MAPE: 25.15%\n",
      "LSTM -> MAPE: 28.37%\n",
      "Prophet -> MAPE: 23.76%\n",
      "MovingAverage -> MAPE: 25.57%\n",
      "\n",
      "El mejor modelo es Prophet con un MAPE de 23.76%\n",
      "\n",
      "Reducción de error vs Media Móvil: 7.11%\n"
     ]
    }
   ],
   "source": [
    "model_results = {\n",
    "    'SARIMAX': sarimax_mape,\n",
    "    'LSTM': lstm_mape,\n",
    "    'Prophet': prophet_mape_prom,\n",
    "    'MovingAverage': ma_mape\n",
    "}\n",
    "\n",
    "for model, mape in model_results.items():\n",
    "    print(f\"{model} -> MAPE: {mape:.2f}%\")\n",
    "\n",
    "best_model = min(model_results, key=model_results.get)\n",
    "best_mape = model_results[best_model]\n",
    "print(f\"\\nEl mejor modelo es {best_model} con un MAPE de {best_mape:.2f}%\")\n",
    "\n",
    "# Reducción de error frente a la media móvil\n",
    "ma_mape_value = model_results['MovingAverage']\n",
    "error_reduction = ((ma_mape_value - best_mape) / ma_mape_value) * 100\n",
    "print(f\"\\nReducción de error vs Media Móvil: {error_reduction:.2f}%\")"
   ]
  },
  {
   "cell_type": "markdown",
   "metadata": {},
   "source": [
    "### Validación cruzada Backtesting"
   ]
  },
  {
   "cell_type": "code",
   "execution_count": 59,
   "metadata": {},
   "outputs": [],
   "source": [
    "# TimeSeriesSplit para un backtesting de rolling origin\n",
    "from sklearn.model_selection import TimeSeriesSplit\n",
    "n_splits = 5\n",
    "tscv = TimeSeriesSplit(n_splits=n_splits)\n",
    "mape_scores = []"
   ]
  },
  {
   "cell_type": "code",
   "execution_count": 60,
   "metadata": {},
   "outputs": [],
   "source": [
    "def evaluate_model(model_name, y_true, y_pred):\n",
    "    mape = mean_absolute_percentage_error(y_true, y_pred)*100\n",
    "    print(f\"{model_name} MAPE: {mape:.2f}%\")\n",
    "    return mape"
   ]
  },
  {
   "cell_type": "markdown",
   "metadata": {},
   "source": [
    "#### Backtesting para SARIMAX"
   ]
  },
  {
   "cell_type": "code",
   "execution_count": 61,
   "metadata": {},
   "outputs": [
    {
     "name": "stdout",
     "output_type": "stream",
     "text": [
      "SARIMAX Backtest MAPE: 15.08%\n",
      "SARIMAX Backtest MAPE: 19.58%\n",
      "SARIMAX Backtest MAPE: 21.16%\n",
      "SARIMAX Backtest MAPE: 23.93%\n",
      "MAPE promedio SARIMAX Backtest: 19.93462858050908\n"
     ]
    }
   ],
   "source": [
    "sarimax_mape_list = []\n",
    "\n",
    "for train_index, test_index in tscv.split(df):\n",
    "    train_cv = df.iloc[train_index]\n",
    "    test_cv = df.iloc[test_index]\n",
    "    \n",
    "    # Auto ARIMA o elección manual de orden (para simplificar, usamos parámetros fijos)\n",
    "    order = (1,1,1)\n",
    "    seasonal_order = (1,1,1,12)\n",
    "    try:\n",
    "        model = sm.tsa.statespace.SARIMAX(train_cv['SKU_25'], order=order, seasonal_order=seasonal_order,\n",
    "                                          enforce_stationarity=False, enforce_invertibility=False)\n",
    "        model_fit = model.fit(disp=False)\n",
    "        forecast = model_fit.forecast(steps=len(test_cv))\n",
    "        forecast = np.atleast_1d(forecast)\n",
    "        mape_cv = evaluate_model(\"SARIMAX Backtest\", test_cv['SKU_25'], forecast)\n",
    "        sarimax_mape_list.append(mape_cv)\n",
    "    except Exception as e:\n",
    "        #print(\"Error en SARIMAX:\", e)\n",
    "        pass\n",
    "\n",
    "print(\"MAPE promedio SARIMAX Backtest:\", np.mean(sarimax_mape_list))"
   ]
  },
  {
   "cell_type": "code",
   "execution_count": null,
   "metadata": {},
   "outputs": [
    {
     "name": "stdout",
     "output_type": "stream",
     "text": [
      "Pronóstico SARIMAX para los próximos 3 meses: 2025-01-01    19754.518787\n",
      "2025-02-01    26054.508405\n",
      "2025-03-01    18008.736427\n",
      "Freq: MS, Name: predicted_mean, dtype: float64\n"
     ]
    }
   ],
   "source": [
    "### Estimación de los siguientes 3 meses con SARIMAX\n",
    "order = (1,1,1)\n",
    "seasonal_order = (1,1,1,12)\n",
    "model = sm.tsa.statespace.SARIMAX(df['SKU_25'], order=order, seasonal_order=seasonal_order,\n",
    "                                  enforce_stationarity=False, enforce_invertibility=False)\n",
    "model_fit = model.fit(disp=False)\n",
    "forecast = model_fit.forecast(steps=3)\n",
    "print(f\"Pronóstico SARIMAX para los próximos 3 meses: {forecast}\")"
   ]
  },
  {
   "cell_type": "code",
   "execution_count": 65,
   "metadata": {},
   "outputs": [],
   "source": [
    "import pickle\n",
    "\n",
    "# Guardar el modelo\n",
    "with open(\"modelo_sarimax.pkl\", \"wb\") as f:\n",
    "    pickle.dump(model_fit, f)\n",
    "\n",
    "# Cargar el modelo\n",
    "with open(\"modelo_sarimax.pkl\", \"rb\") as f:\n",
    "    modelo_cargado = pickle.load(f)"
   ]
  },
  {
   "cell_type": "code",
   "execution_count": 66,
   "metadata": {},
   "outputs": [
    {
     "name": "stdout",
     "output_type": "stream",
     "text": [
      "Pronóstico SARIMAX para los próximos 3 meses: 2025-01-01    19754.518787\n",
      "2025-02-01    26054.508405\n",
      "2025-03-01    18008.736427\n",
      "Freq: MS, Name: predicted_mean, dtype: float64\n"
     ]
    }
   ],
   "source": [
    "forecast = modelo_cargado.forecast(steps=3)\n",
    "print(f\"Pronóstico SARIMAX para los próximos 3 meses: {forecast}\")"
   ]
  },
  {
   "cell_type": "markdown",
   "metadata": {},
   "source": [
    "#### LSTM con Backtesting Rolling"
   ]
  },
  {
   "cell_type": "code",
   "execution_count": null,
   "metadata": {},
   "outputs": [
    {
     "name": "stdout",
     "output_type": "stream",
     "text": [
      "\u001b[1m1/1\u001b[0m \u001b[32m━━━━━━━━━━━━━━━━━━━━\u001b[0m\u001b[37m\u001b[0m \u001b[1m0s\u001b[0m 316ms/step\n",
      "LSTM backtesting iteración 60: MAPE 34.85%\n",
      "\u001b[1m1/1\u001b[0m \u001b[32m━━━━━━━━━━━━━━━━━━━━\u001b[0m\u001b[37m\u001b[0m \u001b[1m0s\u001b[0m 302ms/step\n",
      "LSTM backtesting iteración 61: MAPE 12.12%\n",
      "\u001b[1m1/1\u001b[0m \u001b[32m━━━━━━━━━━━━━━━━━━━━\u001b[0m\u001b[37m\u001b[0m \u001b[1m0s\u001b[0m 292ms/step\n",
      "LSTM backtesting iteración 62: MAPE 11.27%\n",
      "WARNING:tensorflow:5 out of the last 5 calls to <function TensorFlowTrainer.make_predict_function.<locals>.one_step_on_data_distributed at 0x00000200C70342C0> triggered tf.function retracing. Tracing is expensive and the excessive number of tracings could be due to (1) creating @tf.function repeatedly in a loop, (2) passing tensors with different shapes, (3) passing Python objects instead of tensors. For (1), please define your @tf.function outside of the loop. For (2), @tf.function has reduce_retracing=True option that can avoid unnecessary retracing. For (3), please refer to https://www.tensorflow.org/guide/function#controlling_retracing and https://www.tensorflow.org/api_docs/python/tf/function for  more details.\n",
      "\u001b[1m1/1\u001b[0m \u001b[32m━━━━━━━━━━━━━━━━━━━━\u001b[0m\u001b[37m\u001b[0m \u001b[1m0s\u001b[0m 301ms/step\n",
      "LSTM backtesting iteración 63: MAPE 13.96%\n",
      "WARNING:tensorflow:6 out of the last 6 calls to <function TensorFlowTrainer.make_predict_function.<locals>.one_step_on_data_distributed at 0x00000200BFA90040> triggered tf.function retracing. Tracing is expensive and the excessive number of tracings could be due to (1) creating @tf.function repeatedly in a loop, (2) passing tensors with different shapes, (3) passing Python objects instead of tensors. For (1), please define your @tf.function outside of the loop. For (2), @tf.function has reduce_retracing=True option that can avoid unnecessary retracing. For (3), please refer to https://www.tensorflow.org/guide/function#controlling_retracing and https://www.tensorflow.org/api_docs/python/tf/function for  more details.\n",
      "\u001b[1m1/1\u001b[0m \u001b[32m━━━━━━━━━━━━━━━━━━━━\u001b[0m\u001b[37m\u001b[0m \u001b[1m0s\u001b[0m 303ms/step\n",
      "LSTM backtesting iteración 64: MAPE 22.84%\n",
      "\u001b[1m1/1\u001b[0m \u001b[32m━━━━━━━━━━━━━━━━━━━━\u001b[0m\u001b[37m\u001b[0m \u001b[1m0s\u001b[0m 302ms/step\n",
      "LSTM backtesting iteración 65: MAPE 15.96%\n",
      "\u001b[1m1/1\u001b[0m \u001b[32m━━━━━━━━━━━━━━━━━━━━\u001b[0m\u001b[37m\u001b[0m \u001b[1m0s\u001b[0m 304ms/step\n",
      "LSTM backtesting iteración 66: MAPE 24.87%\n",
      "\u001b[1m1/1\u001b[0m \u001b[32m━━━━━━━━━━━━━━━━━━━━\u001b[0m\u001b[37m\u001b[0m \u001b[1m0s\u001b[0m 326ms/step\n",
      "LSTM backtesting iteración 67: MAPE 41.51%\n",
      "\u001b[1m1/1\u001b[0m \u001b[32m━━━━━━━━━━━━━━━━━━━━\u001b[0m\u001b[37m\u001b[0m \u001b[1m0s\u001b[0m 343ms/step\n",
      "LSTM backtesting iteración 68: MAPE 14.05%\n",
      "\u001b[1m1/1\u001b[0m \u001b[32m━━━━━━━━━━━━━━━━━━━━\u001b[0m\u001b[37m\u001b[0m \u001b[1m0s\u001b[0m 331ms/step\n",
      "LSTM backtesting iteración 69: MAPE 16.90%\n",
      "\u001b[1m1/1\u001b[0m \u001b[32m━━━━━━━━━━━━━━━━━━━━\u001b[0m\u001b[37m\u001b[0m \u001b[1m0s\u001b[0m 313ms/step\n",
      "LSTM backtesting iteración 70: MAPE 29.97%\n",
      "\u001b[1m1/1\u001b[0m \u001b[32m━━━━━━━━━━━━━━━━━━━━\u001b[0m\u001b[37m\u001b[0m \u001b[1m0s\u001b[0m 318ms/step\n",
      "LSTM backtesting iteración 71: MAPE 36.86%\n",
      "MAPE promedio LSTM Backtest: 22.930619689487823\n"
     ]
    }
   ],
   "source": [
    "scaler = MinMaxScaler()\n",
    "scaled_series = scaler.fit_transform(df[['SKU_25']])\n",
    "\n",
    "def create_sequences(series, window_size=12):\n",
    "    X, y = [], []\n",
    "    for i in range(len(series) - window_size):\n",
    "        X.append(series[i:i+window_size])\n",
    "        y.append(series[i+window_size])\n",
    "    return np.array(X), np.array(y)\n",
    "\n",
    "window_size = 12\n",
    "all_X, all_y = create_sequences(scaled_series, window_size)\n",
    "n_total = len(all_X)\n",
    "n_test = 12\n",
    "\n",
    "lstm_mape_list = []\n",
    "\n",
    "# Definir la arquitectura del modelo fuera del loop\n",
    "def build_model(window_size, learning_rate=0.001):\n",
    "    model = Sequential()\n",
    "    # Puedes probar con más de una capa LSTM y agregar Dropout\n",
    "    model.add(LSTM(100, activation='tanh', return_sequences=True, input_shape=(window_size, 1)))\n",
    "    model.add(Dropout(0.2))\n",
    "    model.add(LSTM(50, activation='tanh'))\n",
    "    model.add(Dropout(0.2))\n",
    "    model.add(Dense(1))\n",
    "    optimizer = Adam(learning_rate=learning_rate)\n",
    "    model.compile(optimizer=optimizer, loss='mse')\n",
    "    return model\n",
    "\n",
    "# Backtesting rolling\n",
    "for i in range(n_total - n_test, n_total):\n",
    "    X_train_lstm = all_X[:i]\n",
    "    y_train_lstm = all_y[:i]\n",
    "    X_test_lstm = all_X[i].reshape(1, window_size, 1)\n",
    "    y_true_lstm = scaler.inverse_transform(all_y[i].reshape(-1, 1))[0, 0]\n",
    "    \n",
    "    model_lstm = build_model(window_size, learning_rate=0.001)\n",
    "    \n",
    "    # Ajustar EarlyStopping para monitorizar el val_loss (usando una parte del train como validación)\n",
    "    es = EarlyStopping(monitor='loss', patience=10, restore_best_weights=True)\n",
    "    model_lstm.fit(X_train_lstm, y_train_lstm, epochs=100, batch_size=16, verbose=0, callbacks=[es])\n",
    "    \n",
    "    pred_scaled = model_lstm.predict(X_test_lstm)\n",
    "    pred = scaler.inverse_transform(pred_scaled)[0, 0]\n",
    "    mape_val = mean_absolute_percentage_error([y_true_lstm], [pred]) * 100\n",
    "    lstm_mape_list.append(mape_val)\n",
    "    print(f\"LSTM backtesting iteración {i}: MAPE {mape_val:.2f}%\")\n",
    "print(\"MAPE promedio LSTM Backtest:\", np.mean(lstm_mape_list))"
   ]
  },
  {
   "cell_type": "code",
   "execution_count": 25,
   "metadata": {},
   "outputs": [],
   "source": [
    "scaler = MinMaxScaler()\n",
    "scaled_series = scaler.fit_transform(df[['SKU_25']])\n",
    "\n",
    "def create_sequences(series, window_size=12):\n",
    "    X, y = [], []\n",
    "    for i in range(len(series) - window_size):\n",
    "        X.append(series[i:i+window_size])\n",
    "        y.append(series[i+window_size])\n",
    "    return np.array(X), np.array(y)\n",
    "\n",
    "window_size = 12  # Se aumenta la ventana para dar mayor contexto\n",
    "all_X, all_y = create_sequences(scaled_series, window_size)\n",
    "\n",
    "# Dividir en conjunto de entrenamiento y validación (ejemplo 80% entrenamiento, 20% validación)\n",
    "split = int(0.8 * len(all_X))\n",
    "X_train, y_train = all_X[:split], all_y[:split]\n",
    "X_val, y_val = all_X[split:], all_y[split:]\n",
    "X_train = X_train.reshape(-1, window_size, 1)\n",
    "X_val = X_val.reshape(-1, window_size, 1)"
   ]
  },
  {
   "cell_type": "code",
   "execution_count": 26,
   "metadata": {},
   "outputs": [],
   "source": [
    "def objective(params):\n",
    "    # Construir el modelo LSTM con los hiperparámetros actuales\n",
    "    model = Sequential()\n",
    "    model.add(LSTM(units=int(params['units_1']),\n",
    "                   activation='tanh',\n",
    "                   return_sequences=True,\n",
    "                   input_shape=(window_size, 1)))\n",
    "    model.add(Dropout(rate=params['dropout_1']))\n",
    "    \n",
    "    model.add(LSTM(units=int(params['units_2']),\n",
    "                   activation='tanh'))\n",
    "    model.add(Dropout(rate=params['dropout_2']))\n",
    "    \n",
    "    model.add(Dense(1))\n",
    "    \n",
    "    optimizer = Adam(learning_rate=params['learning_rate'])\n",
    "    model.compile(optimizer=optimizer, loss='mse')\n",
    "    \n",
    "    # EarlyStopping para evitar sobreajuste\n",
    "    early_stop = tf.keras.callbacks.EarlyStopping(monitor='val_loss',\n",
    "                                                  patience=5,\n",
    "                                                  restore_best_weights=True)\n",
    "    \n",
    "    # Entrenamiento del modelo\n",
    "    history = model.fit(X_train, y_train,\n",
    "                        epochs=50,\n",
    "                        batch_size=16,\n",
    "                        validation_data=(X_val, y_val),\n",
    "                        verbose=0,\n",
    "                        callbacks=[early_stop])\n",
    "    \n",
    "    # La métrica a minimizar es la pérdida mínima en el conjunto de validación\n",
    "    val_loss = np.min(history.history['val_loss'])\n",
    "    print(f\"Parametros: {params} --> val_loss: {val_loss:.6f}\")\n",
    "    \n",
    "    return {'loss': val_loss, 'status': STATUS_OK}\n",
    "\n",
    "# Definir el espacio de búsqueda\n",
    "space = {\n",
    "    'units_1': hp.quniform('units_1', 32, 128, 32),   # Ejemplo: 32, 64, 96, 128\n",
    "    'dropout_1': hp.uniform('dropout_1', 0.1, 0.5),\n",
    "    'units_2': hp.quniform('units_2', 16, 64, 16),     # Ejemplo: 16, 32, 48, 64\n",
    "    'dropout_2': hp.uniform('dropout_2', 0.1, 0.5),\n",
    "    'learning_rate': hp.loguniform('learning_rate', np.log(1e-4), np.log(1e-2))\n",
    "}"
   ]
  },
  {
   "cell_type": "code",
   "execution_count": 27,
   "metadata": {},
   "outputs": [
    {
     "name": "stdout",
     "output_type": "stream",
     "text": [
      "Parametros: {'dropout_1': 0.4745251175295164, 'dropout_2': 0.20878271481039934, 'learning_rate': 0.0002761848351417652, 'units_1': 64.0, 'units_2': 16.0} --> val_loss: 0.035388\n",
      "Parametros: {'dropout_1': 0.29553448340287597, 'dropout_2': 0.13649636039177368, 'learning_rate': 0.0012923568957479254, 'units_1': 96.0, 'units_2': 48.0} --> val_loss: 0.034793\n",
      "Parametros: {'dropout_1': 0.17153975431963747, 'dropout_2': 0.3586266691813289, 'learning_rate': 0.0033705127037621423, 'units_1': 32.0, 'units_2': 48.0} --> val_loss: 0.034322\n",
      "Parametros: {'dropout_1': 0.14829723959837865, 'dropout_2': 0.12920126305158053, 'learning_rate': 0.0022812398561491954, 'units_1': 128.0, 'units_2': 32.0} --> val_loss: 0.034289\n",
      "Parametros: {'dropout_1': 0.2694238111350956, 'dropout_2': 0.4012386841802795, 'learning_rate': 0.000130372391120706, 'units_1': 96.0, 'units_2': 64.0} --> val_loss: 0.035152\n",
      "Parametros: {'dropout_1': 0.16810113126359263, 'dropout_2': 0.285013038558936, 'learning_rate': 0.004650427942142217, 'units_1': 32.0, 'units_2': 16.0} --> val_loss: 0.033944\n",
      "Parametros: {'dropout_1': 0.3751582864496832, 'dropout_2': 0.49926573958374276, 'learning_rate': 0.0007764325751262038, 'units_1': 96.0, 'units_2': 32.0} --> val_loss: 0.034624\n",
      "Parametros: {'dropout_1': 0.12126575629606391, 'dropout_2': 0.17972636017300028, 'learning_rate': 0.0019285234692149264, 'units_1': 128.0, 'units_2': 64.0} --> val_loss: 0.034048\n",
      "Parametros: {'dropout_1': 0.30519285248583544, 'dropout_2': 0.1801110607429359, 'learning_rate': 0.001704365637574571, 'units_1': 64.0, 'units_2': 48.0} --> val_loss: 0.034565\n",
      "Parametros: {'dropout_1': 0.4794755341543754, 'dropout_2': 0.4305166345577388, 'learning_rate': 0.0012062997258395635, 'units_1': 128.0, 'units_2': 32.0} --> val_loss: 0.034011\n",
      "Parametros: {'dropout_1': 0.3376382656379462, 'dropout_2': 0.4240209380681549, 'learning_rate': 0.0005153373435228684, 'units_1': 96.0, 'units_2': 32.0} --> val_loss: 0.034805\n",
      "Parametros: {'dropout_1': 0.478565825492972, 'dropout_2': 0.42439355540393053, 'learning_rate': 0.0070820468558269135, 'units_1': 32.0, 'units_2': 32.0} --> val_loss: 0.034242\n",
      "Parametros: {'dropout_1': 0.3084546406904135, 'dropout_2': 0.2164922525616098, 'learning_rate': 0.0020054062945563376, 'units_1': 96.0, 'units_2': 48.0} --> val_loss: 0.034966\n",
      "Parametros: {'dropout_1': 0.46802228034506677, 'dropout_2': 0.29449470022725716, 'learning_rate': 0.000307749671526175, 'units_1': 32.0, 'units_2': 32.0} --> val_loss: 0.034665\n",
      "Parametros: {'dropout_1': 0.27402122893136466, 'dropout_2': 0.38733289274391514, 'learning_rate': 0.0015101981320537303, 'units_1': 32.0, 'units_2': 48.0} --> val_loss: 0.034544\n",
      "Parametros: {'dropout_1': 0.1308315770361882, 'dropout_2': 0.31752548076361076, 'learning_rate': 0.00014530386117721854, 'units_1': 128.0, 'units_2': 48.0} --> val_loss: 0.035270\n",
      "Parametros: {'dropout_1': 0.34448240837144306, 'dropout_2': 0.13941484814776217, 'learning_rate': 0.00033202741864712867, 'units_1': 32.0, 'units_2': 16.0} --> val_loss: 0.034002\n",
      "Parametros: {'dropout_1': 0.3600661022664673, 'dropout_2': 0.404380655000527, 'learning_rate': 0.004007332384128281, 'units_1': 96.0, 'units_2': 32.0} --> val_loss: 0.033924\n",
      "Parametros: {'dropout_1': 0.1775456640626273, 'dropout_2': 0.26855203447554765, 'learning_rate': 0.004110675884382569, 'units_1': 96.0, 'units_2': 32.0} --> val_loss: 0.034505\n",
      "Parametros: {'dropout_1': 0.21959871398216724, 'dropout_2': 0.2697133723590782, 'learning_rate': 0.00043520390510270253, 'units_1': 64.0, 'units_2': 48.0} --> val_loss: 0.035539\n",
      "Parametros: {'dropout_1': 0.41635470511940487, 'dropout_2': 0.3496451370527874, 'learning_rate': 0.009197806505194922, 'units_1': 64.0, 'units_2': 16.0} --> val_loss: 0.033396\n",
      "Parametros: {'dropout_1': 0.41357202005072713, 'dropout_2': 0.493333529997249, 'learning_rate': 0.009816709659498764, 'units_1': 64.0, 'units_2': 16.0} --> val_loss: 0.034470\n",
      "Parametros: {'dropout_1': 0.4251601425812336, 'dropout_2': 0.46459249035555633, 'learning_rate': 0.00838148297435906, 'units_1': 64.0, 'units_2': 16.0} --> val_loss: 0.034333\n",
      "Parametros: {'dropout_1': 0.3979275164910755, 'dropout_2': 0.34391691383733936, 'learning_rate': 0.0057263293345662, 'units_1': 64.0, 'units_2': 16.0} --> val_loss: 0.034588\n",
      "Parametros: {'dropout_1': 0.4384303988971991, 'dropout_2': 0.36577656842881967, 'learning_rate': 0.0029477105763383127, 'units_1': 96.0, 'units_2': 16.0} --> val_loss: 0.034060\n",
      "Parametros: {'dropout_1': 0.36879353555225547, 'dropout_2': 0.46308584784191986, 'learning_rate': 0.00950719663581825, 'units_1': 64.0, 'units_2': 16.0} --> val_loss: 0.033938\n",
      "Parametros: {'dropout_1': 0.4482949723117601, 'dropout_2': 0.32172853139010726, 'learning_rate': 0.0059290220425292466, 'units_1': 96.0, 'units_2': 32.0} --> val_loss: 0.034380\n",
      "Parametros: {'dropout_1': 0.23722195434616383, 'dropout_2': 0.2442328442801177, 'learning_rate': 0.0008482886137724824, 'units_1': 64.0, 'units_2': 64.0} --> val_loss: 0.034542\n",
      "Parametros: {'dropout_1': 0.3798107970052593, 'dropout_2': 0.3915646721922132, 'learning_rate': 0.002868882918122592, 'units_1': 64.0, 'units_2': 16.0} --> val_loss: 0.033981\n",
      "Parametros: {'dropout_1': 0.34647713920798534, 'dropout_2': 0.4643997432878216, 'learning_rate': 0.004750467256469361, 'units_1': 128.0, 'units_2': 16.0} --> val_loss: 0.033637\n",
      "Parametros: {'dropout_1': 0.3272937333924965, 'dropout_2': 0.4607850805954191, 'learning_rate': 0.006555549240913368, 'units_1': 128.0, 'units_2': 16.0} --> val_loss: 0.033929\n",
      "Parametros: {'dropout_1': 0.49823923608068016, 'dropout_2': 0.34342053064360706, 'learning_rate': 0.00018999653994817116, 'units_1': 64.0, 'units_2': 16.0} --> val_loss: 0.035633\n",
      "Parametros: {'dropout_1': 0.3998010140316165, 'dropout_2': 0.4823775638906705, 'learning_rate': 0.009884032971917745, 'units_1': 32.0, 'units_2': 16.0} --> val_loss: 0.033219\n",
      "Parametros: {'dropout_1': 0.4001135386620728, 'dropout_2': 0.23444854962297287, 'learning_rate': 0.009899785032403314, 'units_1': 32.0, 'units_2': 16.0} --> val_loss: 0.034156\n",
      "Parametros: {'dropout_1': 0.45176942753395355, 'dropout_2': 0.4909290332919053, 'learning_rate': 0.0025635815712804267, 'units_1': 32.0, 'units_2': 16.0} --> val_loss: 0.033453\n",
      "Parametros: {'dropout_1': 0.39243858701067924, 'dropout_2': 0.10319561872950034, 'learning_rate': 0.00781986810669011, 'units_1': 32.0, 'units_2': 32.0} --> val_loss: 0.034325\n",
      "Parametros: {'dropout_1': 0.4253268831425816, 'dropout_2': 0.3702623346568546, 'learning_rate': 0.0006820457182710191, 'units_1': 32.0, 'units_2': 64.0} --> val_loss: 0.034647\n",
      "Parametros: {'dropout_1': 0.49938672702981013, 'dropout_2': 0.32142093559356466, 'learning_rate': 0.0012708609004407022, 'units_1': 32.0, 'units_2': 16.0} --> val_loss: 0.034075\n",
      "Parametros: {'dropout_1': 0.27856762811903557, 'dropout_2': 0.16378523613725735, 'learning_rate': 0.0033547757439113196, 'units_1': 64.0, 'units_2': 32.0} --> val_loss: 0.034181\n",
      "Parametros: {'dropout_1': 0.24810307667913595, 'dropout_2': 0.34533732761703184, 'learning_rate': 0.0053033267849826255, 'units_1': 32.0, 'units_2': 16.0} --> val_loss: 0.033461\n",
      "Parametros: {'dropout_1': 0.3239764440385949, 'dropout_2': 0.4342729398154695, 'learning_rate': 0.00010429611766131269, 'units_1': 64.0, 'units_2': 32.0} --> val_loss: 0.035152\n",
      "Parametros: {'dropout_1': 0.46267509925432204, 'dropout_2': 0.4479992437012256, 'learning_rate': 0.0021810124459579975, 'units_1': 32.0, 'units_2': 64.0} --> val_loss: 0.034052\n",
      "Parametros: {'dropout_1': 0.2935594555279197, 'dropout_2': 0.40474237095752374, 'learning_rate': 0.0035567772745473698, 'units_1': 64.0, 'units_2': 16.0} --> val_loss: 0.033530\n",
      "Parametros: {'dropout_1': 0.4912276758950818, 'dropout_2': 0.49660285942245364, 'learning_rate': 0.001093184257053142, 'units_1': 32.0, 'units_2': 32.0} --> val_loss: 0.034242\n",
      "Parametros: {'dropout_1': 0.4101183990652906, 'dropout_2': 0.2144507709037553, 'learning_rate': 0.0017438630983820495, 'units_1': 96.0, 'units_2': 48.0} --> val_loss: 0.034127\n",
      "Parametros: {'dropout_1': 0.3585329399303234, 'dropout_2': 0.1927243700667263, 'learning_rate': 0.00019963518263947097, 'units_1': 32.0, 'units_2': 32.0} --> val_loss: 0.034710\n",
      "Parametros: {'dropout_1': 0.38609333364633824, 'dropout_2': 0.30626121193356914, 'learning_rate': 0.007802892697066254, 'units_1': 64.0, 'units_2': 16.0} --> val_loss: 0.033628\n",
      "Parametros: {'dropout_1': 0.3137315810599592, 'dropout_2': 0.4783032703403581, 'learning_rate': 0.0005640326969423717, 'units_1': 96.0, 'units_2': 48.0} --> val_loss: 0.034644\n",
      "Parametros: {'dropout_1': 0.4773590400236913, 'dropout_2': 0.2786102844255419, 'learning_rate': 0.0014941276899492297, 'units_1': 32.0, 'units_2': 32.0} --> val_loss: 0.034501\n",
      "Parametros: {'dropout_1': 0.21128459445468672, 'dropout_2': 0.2560282957543004, 'learning_rate': 0.0009641052086983579, 'units_1': 32.0, 'units_2': 16.0} --> val_loss: 0.034542\n",
      "100%|██████████| 50/50 [05:01<00:00,  6.03s/trial, best loss: 0.03321851044893265]\n",
      "Mejores hiperparámetros encontrados:\n",
      "{'dropout_1': 0.3998010140316165, 'dropout_2': 0.4823775638906705, 'learning_rate': 0.009884032971917745, 'units_1': 32.0, 'units_2': 16.0}\n"
     ]
    }
   ],
   "source": [
    "trials = Trials()\n",
    "\n",
    "best = fmin(fn=objective,\n",
    "            space=space,\n",
    "            algo=tpe.suggest,\n",
    "            max_evals=50,  # Puedes incrementar este valor para explorar más combinaciones\n",
    "            trials=trials)\n",
    "\n",
    "print(\"Mejores hiperparámetros encontrados:\")\n",
    "print(best)"
   ]
  },
  {
   "cell_type": "code",
   "execution_count": 28,
   "metadata": {},
   "outputs": [
    {
     "name": "stdout",
     "output_type": "stream",
     "text": [
      "Epoch 1/50\n",
      "\u001b[1m4/4\u001b[0m \u001b[32m━━━━━━━━━━━━━━━━━━━━\u001b[0m\u001b[37m\u001b[0m \u001b[1m5s\u001b[0m 225ms/step - loss: 0.1378 - val_loss: 0.0412\n",
      "Epoch 2/50\n",
      "\u001b[1m4/4\u001b[0m \u001b[32m━━━━━━━━━━━━━━━━━━━━\u001b[0m\u001b[37m\u001b[0m \u001b[1m0s\u001b[0m 43ms/step - loss: 0.0585 - val_loss: 0.0345\n",
      "Epoch 3/50\n",
      "\u001b[1m4/4\u001b[0m \u001b[32m━━━━━━━━━━━━━━━━━━━━\u001b[0m\u001b[37m\u001b[0m \u001b[1m0s\u001b[0m 40ms/step - loss: 0.0486 - val_loss: 0.0365\n",
      "Epoch 4/50\n",
      "\u001b[1m4/4\u001b[0m \u001b[32m━━━━━━━━━━━━━━━━━━━━\u001b[0m\u001b[37m\u001b[0m \u001b[1m0s\u001b[0m 73ms/step - loss: 0.0383 - val_loss: 0.0384\n",
      "Epoch 5/50\n",
      "\u001b[1m4/4\u001b[0m \u001b[32m━━━━━━━━━━━━━━━━━━━━\u001b[0m\u001b[37m\u001b[0m \u001b[1m0s\u001b[0m 43ms/step - loss: 0.0471 - val_loss: 0.0403\n",
      "Epoch 6/50\n",
      "\u001b[1m4/4\u001b[0m \u001b[32m━━━━━━━━━━━━━━━━━━━━\u001b[0m\u001b[37m\u001b[0m \u001b[1m0s\u001b[0m 38ms/step - loss: 0.0411 - val_loss: 0.0346\n",
      "Epoch 7/50\n",
      "\u001b[1m4/4\u001b[0m \u001b[32m━━━━━━━━━━━━━━━━━━━━\u001b[0m\u001b[37m\u001b[0m \u001b[1m0s\u001b[0m 39ms/step - loss: 0.0440 - val_loss: 0.0400\n",
      "\u001b[1m1/1\u001b[0m \u001b[32m━━━━━━━━━━━━━━━━━━━━\u001b[0m\u001b[37m\u001b[0m \u001b[1m0s\u001b[0m 61ms/step - loss: 0.0345\n",
      "Validation loss del mejor modelo: 0.03446542099118233\n"
     ]
    }
   ],
   "source": [
    "# Modelo con los mejores hiperparámetros\n",
    "best_model = Sequential()\n",
    "best_model.add(LSTM(units=int(best['units_1']),\n",
    "                    activation='tanh',\n",
    "                    return_sequences=True,\n",
    "                    input_shape=(window_size, 1)))\n",
    "best_model.add(Dropout(rate=best['dropout_1']))\n",
    "best_model.add(LSTM(units=int(best['units_2']),\n",
    "                    activation='tanh'))\n",
    "best_model.add(Dropout(rate=best['dropout_2']))\n",
    "best_model.add(Dense(1))\n",
    "\n",
    "optimizer = Adam(learning_rate=best['learning_rate'])\n",
    "best_model.compile(optimizer=optimizer, loss='mse')\n",
    "\n",
    "# Entrenamos con EarlyStopping\n",
    "early_stop = tf.keras.callbacks.EarlyStopping(monitor='val_loss',\n",
    "                                              patience=5,\n",
    "                                              restore_best_weights=True)\n",
    "history = best_model.fit(X_train, y_train,\n",
    "                         epochs=50,\n",
    "                         batch_size=16,\n",
    "                         validation_data=(X_val, y_val),\n",
    "                         verbose=1,\n",
    "                         callbacks=[early_stop])\n",
    "\n",
    "val_loss = best_model.evaluate(X_val, y_val)\n",
    "print(\"Validation loss del mejor modelo:\", val_loss)"
   ]
  },
  {
   "cell_type": "code",
   "execution_count": 38,
   "metadata": {},
   "outputs": [
    {
     "name": "stdout",
     "output_type": "stream",
     "text": [
      "\u001b[1m1/1\u001b[0m \u001b[32m━━━━━━━━━━━━━━━━━━━━\u001b[0m\u001b[37m\u001b[0m \u001b[1m0s\u001b[0m 87ms/step\n",
      "El MAPE para el mejor modelo es: 22.07%\n"
     ]
    }
   ],
   "source": [
    "# predicciones en el conjunto de validación\n",
    "preds = best_model.predict(X_val)\n",
    "\n",
    "# Desescalar las predicciones y los valores reales\n",
    "preds_inversed = scaler.inverse_transform(preds)\n",
    "y_val_inversed = scaler.inverse_transform(y_val)\n",
    "\n",
    "# Calcular el MAPE\n",
    "mape_LSTM = mean_absolute_percentage_error(y_val_inversed, preds_inversed) * 100\n",
    "print(\"El MAPE para el mejor modelo es: {:.2f}%\".format(mape_LSTM))"
   ]
  },
  {
   "cell_type": "markdown",
   "metadata": {},
   "source": [
    "#### Prophet (Backtesting sencillo)"
   ]
  },
  {
   "cell_type": "code",
   "execution_count": null,
   "metadata": {},
   "outputs": [
    {
     "name": "stderr",
     "output_type": "stream",
     "text": [
      "22:56:45 - cmdstanpy - INFO - Chain [1] start processing\n",
      "22:56:46 - cmdstanpy - INFO - Chain [1] done processing\n"
     ]
    },
    {
     "name": "stdout",
     "output_type": "stream",
     "text": [
      "Prophet MAPE Backtest: 25.077376089115088\n"
     ]
    }
   ],
   "source": [
    "df_prophet = df.reset_index().rename(columns={'Fecha': 'ds', 'SKU_25': 'y'})\n",
    "train_prophet = df_prophet.iloc[:-test_size]\n",
    "test_prophet = df_prophet.iloc[-test_size:]\n",
    "\n",
    "model_prophet = Prophet(yearly_seasonality=True, weekly_seasonality=False, daily_seasonality=False)\n",
    "model_prophet.fit(train_prophet)\n",
    "future = model_prophet.make_future_dataframe(periods=test_size, freq='MS')\n",
    "forecast = model_prophet.predict(future)\n",
    "forecast_test = forecast.iloc[-test_size:][['ds','yhat']]\n",
    "\n",
    "prophet_mape = mean_absolute_percentage_error(test_prophet['y'], forecast_test['yhat'])*100\n",
    "print(\"Prophet MAPE Backtest:\", prophet_mape)"
   ]
  },
  {
   "cell_type": "code",
   "execution_count": 31,
   "metadata": {},
   "outputs": [],
   "source": [
    "space = {\n",
    "    'changepoint_prior_scale': hp.loguniform('changepoint_prior_scale', np.log(0.05), np.log(0.2)),\n",
    "    'seasonality_prior_scale': hp.loguniform('seasonality_prior_scale', np.log(3), np.log(7)),\n",
    "    'n_changepoints': hp.quniform('n_changepoints', 15, 25, 1)\n",
    "}"
   ]
  },
  {
   "cell_type": "code",
   "execution_count": 34,
   "metadata": {},
   "outputs": [
    {
     "name": "stdout",
     "output_type": "stream",
     "text": [
      "  0%|          | 0/20 [00:00<?, ?trial/s, best loss=?]"
     ]
    },
    {
     "name": "stderr",
     "output_type": "stream",
     "text": [
      "22:58:40 - cmdstanpy - INFO - Chain [1] start processing\n",
      "22:58:40 - cmdstanpy - INFO - Chain [1] done processing\n"
     ]
    },
    {
     "data": {
      "application/vnd.jupyter.widget-view+json": {
       "model_id": "7b5d90ac65ed493ab5a51fb43234c4b4",
       "version_major": 2,
       "version_minor": 0
      },
      "text/plain": [
       "  0%|          | 0/3 [00:00<?, ?it/s]"
      ]
     },
     "metadata": {},
     "output_type": "display_data"
    },
    {
     "name": "stderr",
     "output_type": "stream",
     "text": [
      "22:58:40 - cmdstanpy - INFO - Chain [1] start processing\n",
      "22:58:41 - cmdstanpy - INFO - Chain [1] done processing\n",
      "22:58:41 - cmdstanpy - INFO - Chain [1] start processing\n",
      "22:58:41 - cmdstanpy - INFO - Chain [1] done processing\n",
      "22:58:41 - cmdstanpy - INFO - Chain [1] start processing\n",
      "22:58:41 - cmdstanpy - INFO - Chain [1] done processing\n"
     ]
    },
    {
     "name": "stdout",
     "output_type": "stream",
     "text": [
      "Params: {'changepoint_prior_scale': 0.05792602376369614, 'n_changepoints': 19, 'seasonality_prior_scale': 4.376847501270584} -> MAPE: 0.2939\n",
      "  5%|▌         | 1/20 [00:01<00:32,  1.73s/trial, best loss: 0.2939080217641623]"
     ]
    },
    {
     "name": "stderr",
     "output_type": "stream",
     "text": [
      "22:58:42 - cmdstanpy - INFO - Chain [1] start processing\n",
      "22:58:42 - cmdstanpy - INFO - Chain [1] done processing\n"
     ]
    },
    {
     "data": {
      "application/vnd.jupyter.widget-view+json": {
       "model_id": "c2359dc38f334220b6da7a7263cfafd1",
       "version_major": 2,
       "version_minor": 0
      },
      "text/plain": [
       "  0%|          | 0/3 [00:00<?, ?it/s]"
      ]
     },
     "metadata": {},
     "output_type": "display_data"
    },
    {
     "name": "stderr",
     "output_type": "stream",
     "text": [
      "22:58:42 - cmdstanpy - INFO - Chain [1] start processing\n",
      "22:58:42 - cmdstanpy - INFO - Chain [1] done processing\n",
      "22:58:42 - cmdstanpy - INFO - Chain [1] start processing\n",
      "22:58:43 - cmdstanpy - INFO - Chain [1] done processing\n",
      "22:58:43 - cmdstanpy - INFO - Chain [1] start processing\n",
      "22:58:43 - cmdstanpy - INFO - Chain [1] done processing\n"
     ]
    },
    {
     "name": "stdout",
     "output_type": "stream",
     "text": [
      "Params: {'changepoint_prior_scale': 0.1367900015460336, 'n_changepoints': 16, 'seasonality_prior_scale': 6.011052924571503} -> MAPE: 0.2967\n",
      " 10%|█         | 2/20 [00:03<00:29,  1.66s/trial, best loss: 0.2939080217641623]"
     ]
    },
    {
     "name": "stderr",
     "output_type": "stream",
     "text": [
      "22:58:43 - cmdstanpy - INFO - Chain [1] start processing\n",
      "22:58:44 - cmdstanpy - INFO - Chain [1] done processing\n"
     ]
    },
    {
     "data": {
      "application/vnd.jupyter.widget-view+json": {
       "model_id": "7326df4799fe47a29e7dadcf289d3d5c",
       "version_major": 2,
       "version_minor": 0
      },
      "text/plain": [
       "  0%|          | 0/3 [00:00<?, ?it/s]"
      ]
     },
     "metadata": {},
     "output_type": "display_data"
    },
    {
     "name": "stderr",
     "output_type": "stream",
     "text": [
      "22:58:44 - cmdstanpy - INFO - Chain [1] start processing\n",
      "22:58:44 - cmdstanpy - INFO - Chain [1] done processing\n",
      "22:58:44 - cmdstanpy - INFO - Chain [1] start processing\n",
      "22:58:44 - cmdstanpy - INFO - Chain [1] done processing\n",
      "22:58:44 - cmdstanpy - INFO - Chain [1] start processing\n",
      "22:58:45 - cmdstanpy - INFO - Chain [1] done processing\n"
     ]
    },
    {
     "name": "stdout",
     "output_type": "stream",
     "text": [
      "Params: {'changepoint_prior_scale': 0.07983624148953015, 'n_changepoints': 23, 'seasonality_prior_scale': 5.350909552987998} -> MAPE: 0.2907\n",
      " 15%|█▌        | 3/20 [00:04<00:27,  1.64s/trial, best loss: 0.29074860232105554]"
     ]
    },
    {
     "name": "stderr",
     "output_type": "stream",
     "text": [
      "22:58:45 - cmdstanpy - INFO - Chain [1] start processing\n",
      "22:58:45 - cmdstanpy - INFO - Chain [1] done processing\n"
     ]
    },
    {
     "data": {
      "application/vnd.jupyter.widget-view+json": {
       "model_id": "60bcf9b2efb147f58457f080ba6030eb",
       "version_major": 2,
       "version_minor": 0
      },
      "text/plain": [
       "  0%|          | 0/3 [00:00<?, ?it/s]"
      ]
     },
     "metadata": {},
     "output_type": "display_data"
    },
    {
     "name": "stderr",
     "output_type": "stream",
     "text": [
      "22:58:45 - cmdstanpy - INFO - Chain [1] start processing\n",
      "22:58:46 - cmdstanpy - INFO - Chain [1] done processing\n",
      "22:58:46 - cmdstanpy - INFO - Chain [1] start processing\n",
      "22:58:46 - cmdstanpy - INFO - Chain [1] done processing\n",
      "22:58:46 - cmdstanpy - INFO - Chain [1] start processing\n",
      "22:58:46 - cmdstanpy - INFO - Chain [1] done processing\n"
     ]
    },
    {
     "name": "stdout",
     "output_type": "stream",
     "text": [
      "Params: {'changepoint_prior_scale': 0.15842674820557764, 'n_changepoints': 25, 'seasonality_prior_scale': 4.857307115071444} -> MAPE: 0.3002\n",
      " 20%|██        | 4/20 [00:06<00:27,  1.69s/trial, best loss: 0.29074860232105554]"
     ]
    },
    {
     "name": "stderr",
     "output_type": "stream",
     "text": [
      "22:58:47 - cmdstanpy - INFO - Chain [1] start processing\n",
      "22:58:47 - cmdstanpy - INFO - Chain [1] done processing\n"
     ]
    },
    {
     "data": {
      "application/vnd.jupyter.widget-view+json": {
       "model_id": "75a7d6d62dc0416583dac048919116fc",
       "version_major": 2,
       "version_minor": 0
      },
      "text/plain": [
       "  0%|          | 0/3 [00:00<?, ?it/s]"
      ]
     },
     "metadata": {},
     "output_type": "display_data"
    },
    {
     "name": "stderr",
     "output_type": "stream",
     "text": [
      "22:58:47 - cmdstanpy - INFO - Chain [1] start processing\n",
      "22:58:47 - cmdstanpy - INFO - Chain [1] done processing\n",
      "22:58:47 - cmdstanpy - INFO - Chain [1] start processing\n",
      "22:58:48 - cmdstanpy - INFO - Chain [1] done processing\n",
      "22:58:48 - cmdstanpy - INFO - Chain [1] start processing\n",
      "22:58:48 - cmdstanpy - INFO - Chain [1] done processing\n"
     ]
    },
    {
     "name": "stdout",
     "output_type": "stream",
     "text": [
      "Params: {'changepoint_prior_scale': 0.07011268502028944, 'n_changepoints': 24, 'seasonality_prior_scale': 4.570406955034322} -> MAPE: 0.2893\n",
      " 25%|██▌       | 5/20 [00:08<00:24,  1.64s/trial, best loss: 0.2892944290633786] "
     ]
    },
    {
     "name": "stderr",
     "output_type": "stream",
     "text": [
      "22:58:48 - cmdstanpy - INFO - Chain [1] start processing\n",
      "22:58:48 - cmdstanpy - INFO - Chain [1] done processing\n"
     ]
    },
    {
     "data": {
      "application/vnd.jupyter.widget-view+json": {
       "model_id": "899f4741e84a489da5c98c9c8c6053dd",
       "version_major": 2,
       "version_minor": 0
      },
      "text/plain": [
       "  0%|          | 0/3 [00:00<?, ?it/s]"
      ]
     },
     "metadata": {},
     "output_type": "display_data"
    },
    {
     "name": "stderr",
     "output_type": "stream",
     "text": [
      "22:58:49 - cmdstanpy - INFO - Chain [1] start processing\n",
      "22:58:49 - cmdstanpy - INFO - Chain [1] done processing\n",
      "22:58:49 - cmdstanpy - INFO - Chain [1] start processing\n",
      "22:58:49 - cmdstanpy - INFO - Chain [1] done processing\n",
      "22:58:49 - cmdstanpy - INFO - Chain [1] start processing\n",
      "22:58:50 - cmdstanpy - INFO - Chain [1] done processing\n"
     ]
    },
    {
     "name": "stdout",
     "output_type": "stream",
     "text": [
      "Params: {'changepoint_prior_scale': 0.07686816082296433, 'n_changepoints': 23, 'seasonality_prior_scale': 4.5395502085102954} -> MAPE: 0.2907\n",
      " 30%|███       | 6/20 [00:09<00:22,  1.62s/trial, best loss: 0.2892944290633786]"
     ]
    },
    {
     "name": "stderr",
     "output_type": "stream",
     "text": [
      "22:58:50 - cmdstanpy - INFO - Chain [1] start processing\n",
      "22:58:50 - cmdstanpy - INFO - Chain [1] done processing\n"
     ]
    },
    {
     "data": {
      "application/vnd.jupyter.widget-view+json": {
       "model_id": "9759b0620b7c4e5a90a535e40c1d2a1c",
       "version_major": 2,
       "version_minor": 0
      },
      "text/plain": [
       "  0%|          | 0/3 [00:00<?, ?it/s]"
      ]
     },
     "metadata": {},
     "output_type": "display_data"
    },
    {
     "name": "stderr",
     "output_type": "stream",
     "text": [
      "22:58:50 - cmdstanpy - INFO - Chain [1] start processing\n",
      "22:58:50 - cmdstanpy - INFO - Chain [1] done processing\n",
      "22:58:50 - cmdstanpy - INFO - Chain [1] start processing\n",
      "22:58:51 - cmdstanpy - INFO - Chain [1] done processing\n",
      "22:58:51 - cmdstanpy - INFO - Chain [1] start processing\n",
      "22:58:51 - cmdstanpy - INFO - Chain [1] done processing\n"
     ]
    },
    {
     "name": "stdout",
     "output_type": "stream",
     "text": [
      "Params: {'changepoint_prior_scale': 0.05151175412985792, 'n_changepoints': 22, 'seasonality_prior_scale': 6.341347261336461} -> MAPE: 0.3031\n",
      " 35%|███▌      | 7/20 [00:11<00:20,  1.56s/trial, best loss: 0.2892944290633786]"
     ]
    },
    {
     "name": "stderr",
     "output_type": "stream",
     "text": [
      "22:58:51 - cmdstanpy - INFO - Chain [1] start processing\n",
      "22:58:51 - cmdstanpy - INFO - Chain [1] done processing\n"
     ]
    },
    {
     "data": {
      "application/vnd.jupyter.widget-view+json": {
       "model_id": "a8ca9689a92a401e9958d129c9470db2",
       "version_major": 2,
       "version_minor": 0
      },
      "text/plain": [
       "  0%|          | 0/3 [00:00<?, ?it/s]"
      ]
     },
     "metadata": {},
     "output_type": "display_data"
    },
    {
     "name": "stderr",
     "output_type": "stream",
     "text": [
      "22:58:52 - cmdstanpy - INFO - Chain [1] start processing\n",
      "22:58:52 - cmdstanpy - INFO - Chain [1] done processing\n",
      "22:58:52 - cmdstanpy - INFO - Chain [1] start processing\n",
      "22:58:52 - cmdstanpy - INFO - Chain [1] done processing\n",
      "22:58:52 - cmdstanpy - INFO - Chain [1] start processing\n",
      "22:58:52 - cmdstanpy - INFO - Chain [1] done processing\n"
     ]
    },
    {
     "name": "stdout",
     "output_type": "stream",
     "text": [
      "Params: {'changepoint_prior_scale': 0.12452694413514365, 'n_changepoints': 18, 'seasonality_prior_scale': 6.260534378064642} -> MAPE: 0.2957\n",
      " 40%|████      | 8/20 [00:12<00:18,  1.54s/trial, best loss: 0.2892944290633786]"
     ]
    },
    {
     "name": "stderr",
     "output_type": "stream",
     "text": [
      "22:58:53 - cmdstanpy - INFO - Chain [1] start processing\n",
      "22:58:53 - cmdstanpy - INFO - Chain [1] done processing\n"
     ]
    },
    {
     "data": {
      "application/vnd.jupyter.widget-view+json": {
       "model_id": "f16194cc11704bf89ba17d0a3923803a",
       "version_major": 2,
       "version_minor": 0
      },
      "text/plain": [
       "  0%|          | 0/3 [00:00<?, ?it/s]"
      ]
     },
     "metadata": {},
     "output_type": "display_data"
    },
    {
     "name": "stderr",
     "output_type": "stream",
     "text": [
      "22:58:53 - cmdstanpy - INFO - Chain [1] start processing\n",
      "22:58:53 - cmdstanpy - INFO - Chain [1] done processing\n",
      "22:58:53 - cmdstanpy - INFO - Chain [1] start processing\n",
      "22:58:54 - cmdstanpy - INFO - Chain [1] done processing\n",
      "22:58:54 - cmdstanpy - INFO - Chain [1] start processing\n",
      "22:58:54 - cmdstanpy - INFO - Chain [1] done processing\n"
     ]
    },
    {
     "name": "stdout",
     "output_type": "stream",
     "text": [
      "Params: {'changepoint_prior_scale': 0.12809362126593335, 'n_changepoints': 17, 'seasonality_prior_scale': 4.456900096508412} -> MAPE: 0.2966\n",
      " 45%|████▌     | 9/20 [00:14<00:16,  1.53s/trial, best loss: 0.2892944290633786]"
     ]
    },
    {
     "name": "stderr",
     "output_type": "stream",
     "text": [
      "22:58:54 - cmdstanpy - INFO - Chain [1] start processing\n",
      "22:58:54 - cmdstanpy - INFO - Chain [1] done processing\n"
     ]
    },
    {
     "data": {
      "application/vnd.jupyter.widget-view+json": {
       "model_id": "c4f716878ae348eeb030e79c2f1179b5",
       "version_major": 2,
       "version_minor": 0
      },
      "text/plain": [
       "  0%|          | 0/3 [00:00<?, ?it/s]"
      ]
     },
     "metadata": {},
     "output_type": "display_data"
    },
    {
     "name": "stderr",
     "output_type": "stream",
     "text": [
      "22:58:55 - cmdstanpy - INFO - Chain [1] start processing\n",
      "22:58:55 - cmdstanpy - INFO - Chain [1] done processing\n",
      "22:58:55 - cmdstanpy - INFO - Chain [1] start processing\n",
      "22:58:55 - cmdstanpy - INFO - Chain [1] done processing\n",
      "22:58:55 - cmdstanpy - INFO - Chain [1] start processing\n",
      "22:58:55 - cmdstanpy - INFO - Chain [1] done processing\n"
     ]
    },
    {
     "name": "stdout",
     "output_type": "stream",
     "text": [
      "Params: {'changepoint_prior_scale': 0.08185045089124889, 'n_changepoints': 18, 'seasonality_prior_scale': 3.8521027821383065} -> MAPE: 0.2908\n",
      " 50%|█████     | 10/20 [00:15<00:14,  1.48s/trial, best loss: 0.2892944290633786]"
     ]
    },
    {
     "name": "stderr",
     "output_type": "stream",
     "text": [
      "22:58:56 - cmdstanpy - INFO - Chain [1] start processing\n",
      "22:58:56 - cmdstanpy - INFO - Chain [1] done processing\n"
     ]
    },
    {
     "data": {
      "application/vnd.jupyter.widget-view+json": {
       "model_id": "7413c3468faf45799283027e11d2d1a4",
       "version_major": 2,
       "version_minor": 0
      },
      "text/plain": [
       "  0%|          | 0/3 [00:00<?, ?it/s]"
      ]
     },
     "metadata": {},
     "output_type": "display_data"
    },
    {
     "name": "stderr",
     "output_type": "stream",
     "text": [
      "22:58:56 - cmdstanpy - INFO - Chain [1] start processing\n",
      "22:58:56 - cmdstanpy - INFO - Chain [1] done processing\n",
      "22:58:56 - cmdstanpy - INFO - Chain [1] start processing\n",
      "22:58:56 - cmdstanpy - INFO - Chain [1] done processing\n",
      "22:58:57 - cmdstanpy - INFO - Chain [1] start processing\n",
      "22:58:57 - cmdstanpy - INFO - Chain [1] done processing\n"
     ]
    },
    {
     "name": "stdout",
     "output_type": "stream",
     "text": [
      "Params: {'changepoint_prior_scale': 0.18046789214024123, 'n_changepoints': 15, 'seasonality_prior_scale': 3.8185994675785837} -> MAPE: 0.3061\n",
      " 55%|█████▌    | 11/20 [00:17<00:13,  1.49s/trial, best loss: 0.2892944290633786]"
     ]
    },
    {
     "name": "stderr",
     "output_type": "stream",
     "text": [
      "22:58:57 - cmdstanpy - INFO - Chain [1] start processing\n",
      "22:58:57 - cmdstanpy - INFO - Chain [1] done processing\n"
     ]
    },
    {
     "data": {
      "application/vnd.jupyter.widget-view+json": {
       "model_id": "3323dc6f5a6e4d3e86c2be0e586007fc",
       "version_major": 2,
       "version_minor": 0
      },
      "text/plain": [
       "  0%|          | 0/3 [00:00<?, ?it/s]"
      ]
     },
     "metadata": {},
     "output_type": "display_data"
    },
    {
     "name": "stderr",
     "output_type": "stream",
     "text": [
      "22:58:57 - cmdstanpy - INFO - Chain [1] start processing\n",
      "22:58:58 - cmdstanpy - INFO - Chain [1] done processing\n",
      "22:58:58 - cmdstanpy - INFO - Chain [1] start processing\n",
      "22:58:58 - cmdstanpy - INFO - Chain [1] done processing\n",
      "22:58:58 - cmdstanpy - INFO - Chain [1] start processing\n",
      "22:58:58 - cmdstanpy - INFO - Chain [1] done processing\n"
     ]
    },
    {
     "name": "stdout",
     "output_type": "stream",
     "text": [
      "Params: {'changepoint_prior_scale': 0.07390933764218101, 'n_changepoints': 19, 'seasonality_prior_scale': 5.771460592961686} -> MAPE: 0.2878\n",
      " 60%|██████    | 12/20 [00:18<00:11,  1.47s/trial, best loss: 0.28778619514075393]"
     ]
    },
    {
     "name": "stderr",
     "output_type": "stream",
     "text": [
      "22:58:58 - cmdstanpy - INFO - Chain [1] start processing\n",
      "22:58:59 - cmdstanpy - INFO - Chain [1] done processing\n"
     ]
    },
    {
     "data": {
      "application/vnd.jupyter.widget-view+json": {
       "model_id": "7b199efc57ec4be2a18a4116105aa8a6",
       "version_major": 2,
       "version_minor": 0
      },
      "text/plain": [
       "  0%|          | 0/3 [00:00<?, ?it/s]"
      ]
     },
     "metadata": {},
     "output_type": "display_data"
    },
    {
     "name": "stderr",
     "output_type": "stream",
     "text": [
      "22:58:59 - cmdstanpy - INFO - Chain [1] start processing\n",
      "22:58:59 - cmdstanpy - INFO - Chain [1] done processing\n",
      "22:58:59 - cmdstanpy - INFO - Chain [1] start processing\n",
      "22:58:59 - cmdstanpy - INFO - Chain [1] done processing\n",
      "22:59:00 - cmdstanpy - INFO - Chain [1] start processing\n",
      "22:59:00 - cmdstanpy - INFO - Chain [1] done processing\n"
     ]
    },
    {
     "name": "stdout",
     "output_type": "stream",
     "text": [
      "Params: {'changepoint_prior_scale': 0.06548468291132453, 'n_changepoints': 23, 'seasonality_prior_scale': 3.7490177102728497} -> MAPE: 0.2900\n",
      " 65%|██████▌   | 13/20 [00:20<00:10,  1.50s/trial, best loss: 0.28778619514075393]"
     ]
    },
    {
     "name": "stderr",
     "output_type": "stream",
     "text": [
      "22:59:00 - cmdstanpy - INFO - Chain [1] start processing\n",
      "22:59:00 - cmdstanpy - INFO - Chain [1] done processing\n"
     ]
    },
    {
     "data": {
      "application/vnd.jupyter.widget-view+json": {
       "model_id": "a66342cccbd746e7b43386b322ff37d4",
       "version_major": 2,
       "version_minor": 0
      },
      "text/plain": [
       "  0%|          | 0/3 [00:00<?, ?it/s]"
      ]
     },
     "metadata": {},
     "output_type": "display_data"
    },
    {
     "name": "stderr",
     "output_type": "stream",
     "text": [
      "22:59:00 - cmdstanpy - INFO - Chain [1] start processing\n",
      "22:59:01 - cmdstanpy - INFO - Chain [1] done processing\n",
      "22:59:01 - cmdstanpy - INFO - Chain [1] start processing\n",
      "22:59:01 - cmdstanpy - INFO - Chain [1] done processing\n",
      "22:59:01 - cmdstanpy - INFO - Chain [1] start processing\n",
      "22:59:01 - cmdstanpy - INFO - Chain [1] done processing\n"
     ]
    },
    {
     "name": "stdout",
     "output_type": "stream",
     "text": [
      "Params: {'changepoint_prior_scale': 0.15086525053281155, 'n_changepoints': 16, 'seasonality_prior_scale': 3.547281726889962} -> MAPE: 0.2999\n",
      " 70%|███████   | 14/20 [00:21<00:08,  1.48s/trial, best loss: 0.28778619514075393]"
     ]
    },
    {
     "name": "stderr",
     "output_type": "stream",
     "text": [
      "22:59:01 - cmdstanpy - INFO - Chain [1] start processing\n",
      "22:59:02 - cmdstanpy - INFO - Chain [1] done processing\n"
     ]
    },
    {
     "data": {
      "application/vnd.jupyter.widget-view+json": {
       "model_id": "a90551dec65e48f99043fff2ce5093c6",
       "version_major": 2,
       "version_minor": 0
      },
      "text/plain": [
       "  0%|          | 0/3 [00:00<?, ?it/s]"
      ]
     },
     "metadata": {},
     "output_type": "display_data"
    },
    {
     "name": "stderr",
     "output_type": "stream",
     "text": [
      "22:59:02 - cmdstanpy - INFO - Chain [1] start processing\n",
      "22:59:02 - cmdstanpy - INFO - Chain [1] done processing\n",
      "22:59:02 - cmdstanpy - INFO - Chain [1] start processing\n",
      "22:59:03 - cmdstanpy - INFO - Chain [1] done processing\n",
      "22:59:03 - cmdstanpy - INFO - Chain [1] start processing\n",
      "22:59:03 - cmdstanpy - INFO - Chain [1] done processing\n"
     ]
    },
    {
     "name": "stdout",
     "output_type": "stream",
     "text": [
      "Params: {'changepoint_prior_scale': 0.07841282528333267, 'n_changepoints': 24, 'seasonality_prior_scale': 3.6616494460850166} -> MAPE: 0.2899\n",
      " 75%|███████▌  | 15/20 [00:23<00:07,  1.51s/trial, best loss: 0.28778619514075393]"
     ]
    },
    {
     "name": "stderr",
     "output_type": "stream",
     "text": [
      "22:59:03 - cmdstanpy - INFO - Chain [1] start processing\n",
      "22:59:03 - cmdstanpy - INFO - Chain [1] done processing\n"
     ]
    },
    {
     "data": {
      "application/vnd.jupyter.widget-view+json": {
       "model_id": "93592471d80d4a68b803d0e206afa632",
       "version_major": 2,
       "version_minor": 0
      },
      "text/plain": [
       "  0%|          | 0/3 [00:00<?, ?it/s]"
      ]
     },
     "metadata": {},
     "output_type": "display_data"
    },
    {
     "name": "stderr",
     "output_type": "stream",
     "text": [
      "22:59:03 - cmdstanpy - INFO - Chain [1] start processing\n",
      "22:59:04 - cmdstanpy - INFO - Chain [1] done processing\n",
      "22:59:04 - cmdstanpy - INFO - Chain [1] start processing\n",
      "22:59:04 - cmdstanpy - INFO - Chain [1] done processing\n",
      "22:59:04 - cmdstanpy - INFO - Chain [1] start processing\n",
      "22:59:04 - cmdstanpy - INFO - Chain [1] done processing\n"
     ]
    },
    {
     "name": "stdout",
     "output_type": "stream",
     "text": [
      "Params: {'changepoint_prior_scale': 0.05464994349776094, 'n_changepoints': 17, 'seasonality_prior_scale': 4.512639773318037} -> MAPE: 0.3039\n",
      " 80%|████████  | 16/20 [00:24<00:05,  1.44s/trial, best loss: 0.28778619514075393]"
     ]
    },
    {
     "name": "stderr",
     "output_type": "stream",
     "text": [
      "22:59:04 - cmdstanpy - INFO - Chain [1] start processing\n",
      "22:59:05 - cmdstanpy - INFO - Chain [1] done processing\n"
     ]
    },
    {
     "data": {
      "application/vnd.jupyter.widget-view+json": {
       "model_id": "0bf6999e53964fbca40d1aa3c7731e5b",
       "version_major": 2,
       "version_minor": 0
      },
      "text/plain": [
       "  0%|          | 0/3 [00:00<?, ?it/s]"
      ]
     },
     "metadata": {},
     "output_type": "display_data"
    },
    {
     "name": "stderr",
     "output_type": "stream",
     "text": [
      "22:59:05 - cmdstanpy - INFO - Chain [1] start processing\n",
      "22:59:05 - cmdstanpy - INFO - Chain [1] done processing\n",
      "22:59:05 - cmdstanpy - INFO - Chain [1] start processing\n",
      "22:59:06 - cmdstanpy - INFO - Chain [1] done processing\n",
      "22:59:06 - cmdstanpy - INFO - Chain [1] start processing\n",
      "22:59:06 - cmdstanpy - INFO - Chain [1] done processing\n"
     ]
    },
    {
     "name": "stdout",
     "output_type": "stream",
     "text": [
      "Params: {'changepoint_prior_scale': 0.18743042062736343, 'n_changepoints': 22, 'seasonality_prior_scale': 4.311099469840054} -> MAPE: 0.3042\n",
      " 85%|████████▌ | 17/20 [00:26<00:04,  1.58s/trial, best loss: 0.28778619514075393]"
     ]
    },
    {
     "name": "stderr",
     "output_type": "stream",
     "text": [
      "22:59:06 - cmdstanpy - INFO - Chain [1] start processing\n",
      "22:59:06 - cmdstanpy - INFO - Chain [1] done processing\n"
     ]
    },
    {
     "data": {
      "application/vnd.jupyter.widget-view+json": {
       "model_id": "307cd666358a467a9b3af469dd8fec3e",
       "version_major": 2,
       "version_minor": 0
      },
      "text/plain": [
       "  0%|          | 0/3 [00:00<?, ?it/s]"
      ]
     },
     "metadata": {},
     "output_type": "display_data"
    },
    {
     "name": "stderr",
     "output_type": "stream",
     "text": [
      "22:59:07 - cmdstanpy - INFO - Chain [1] start processing\n",
      "22:59:07 - cmdstanpy - INFO - Chain [1] done processing\n",
      "22:59:07 - cmdstanpy - INFO - Chain [1] start processing\n",
      "22:59:07 - cmdstanpy - INFO - Chain [1] done processing\n",
      "22:59:07 - cmdstanpy - INFO - Chain [1] start processing\n",
      "22:59:07 - cmdstanpy - INFO - Chain [1] done processing\n"
     ]
    },
    {
     "name": "stdout",
     "output_type": "stream",
     "text": [
      "Params: {'changepoint_prior_scale': 0.15021969166482613, 'n_changepoints': 16, 'seasonality_prior_scale': 4.280497372467992} -> MAPE: 0.3009\n",
      " 90%|█████████ | 18/20 [00:27<00:03,  1.52s/trial, best loss: 0.28778619514075393]"
     ]
    },
    {
     "name": "stderr",
     "output_type": "stream",
     "text": [
      "22:59:08 - cmdstanpy - INFO - Chain [1] start processing\n",
      "22:59:08 - cmdstanpy - INFO - Chain [1] done processing\n"
     ]
    },
    {
     "data": {
      "application/vnd.jupyter.widget-view+json": {
       "model_id": "7e8dc4bdb37b4bd68e51d7f0c58afa9f",
       "version_major": 2,
       "version_minor": 0
      },
      "text/plain": [
       "  0%|          | 0/3 [00:00<?, ?it/s]"
      ]
     },
     "metadata": {},
     "output_type": "display_data"
    },
    {
     "name": "stderr",
     "output_type": "stream",
     "text": [
      "22:59:08 - cmdstanpy - INFO - Chain [1] start processing\n",
      "22:59:08 - cmdstanpy - INFO - Chain [1] done processing\n",
      "22:59:09 - cmdstanpy - INFO - Chain [1] start processing\n",
      "22:59:09 - cmdstanpy - INFO - Chain [1] done processing\n",
      "22:59:09 - cmdstanpy - INFO - Chain [1] start processing\n",
      "22:59:09 - cmdstanpy - INFO - Chain [1] done processing\n"
     ]
    },
    {
     "name": "stdout",
     "output_type": "stream",
     "text": [
      "Params: {'changepoint_prior_scale': 0.11867583159781869, 'n_changepoints': 15, 'seasonality_prior_scale': 3.905075354721219} -> MAPE: 0.2948\n",
      " 95%|█████████▌| 19/20 [00:29<00:01,  1.53s/trial, best loss: 0.28778619514075393]"
     ]
    },
    {
     "name": "stderr",
     "output_type": "stream",
     "text": [
      "22:59:09 - cmdstanpy - INFO - Chain [1] start processing\n",
      "22:59:09 - cmdstanpy - INFO - Chain [1] done processing\n"
     ]
    },
    {
     "data": {
      "application/vnd.jupyter.widget-view+json": {
       "model_id": "dd0b88ffd5364ad6b203cc063bf84310",
       "version_major": 2,
       "version_minor": 0
      },
      "text/plain": [
       "  0%|          | 0/3 [00:00<?, ?it/s]"
      ]
     },
     "metadata": {},
     "output_type": "display_data"
    },
    {
     "name": "stderr",
     "output_type": "stream",
     "text": [
      "22:59:10 - cmdstanpy - INFO - Chain [1] start processing\n",
      "22:59:10 - cmdstanpy - INFO - Chain [1] done processing\n",
      "22:59:10 - cmdstanpy - INFO - Chain [1] start processing\n",
      "22:59:10 - cmdstanpy - INFO - Chain [1] done processing\n",
      "22:59:10 - cmdstanpy - INFO - Chain [1] start processing\n",
      "22:59:10 - cmdstanpy - INFO - Chain [1] done processing\n"
     ]
    },
    {
     "name": "stdout",
     "output_type": "stream",
     "text": [
      "Params: {'changepoint_prior_scale': 0.0696679118999375, 'n_changepoints': 24, 'seasonality_prior_scale': 4.232385053116571} -> MAPE: 0.2886\n",
      "100%|██████████| 20/20 [00:30<00:00,  1.54s/trial, best loss: 0.28778619514075393]\n",
      "Mejores hiperparámetros encontrados:\n",
      "{'changepoint_prior_scale': 0.07390933764218101, 'n_changepoints': 19.0, 'seasonality_prior_scale': 5.771460592961686}\n"
     ]
    }
   ],
   "source": [
    "from prophet.diagnostics import cross_validation, performance_metrics\n",
    "\n",
    "df_prophet2 = df.copy().reset_index().rename(columns={'Fecha': 'ds', 'SKU_25': 'y'})\n",
    "df_prophet2['ds'] = pd.to_datetime(df_prophet2['ds'])\n",
    "df_prophet2 = df_prophet2.sort_values('ds').reset_index(drop=True)\n",
    "\n",
    "space = {\n",
    "    'changepoint_prior_scale': hp.loguniform('changepoint_prior_scale', np.log(0.05), np.log(0.2)),\n",
    "    'seasonality_prior_scale': hp.loguniform('seasonality_prior_scale', np.log(3), np.log(7)),\n",
    "    'n_changepoints': hp.quniform('n_changepoints', 15, 25, 1)\n",
    "}\n",
    "\n",
    "def objective(params):\n",
    "    # Convertir n_changepoints a entero\n",
    "    params['n_changepoints'] = int(params['n_changepoints'])\n",
    "    model = Prophet(\n",
    "        yearly_seasonality=True,\n",
    "        weekly_seasonality=False,\n",
    "        daily_seasonality=False,\n",
    "        changepoint_prior_scale=params['changepoint_prior_scale'],\n",
    "        seasonality_prior_scale=params['seasonality_prior_scale'],\n",
    "        n_changepoints=params['n_changepoints']\n",
    "    )\n",
    "    model.fit(df_prophet2)\n",
    "    \n",
    "    df_cv = cross_validation(\n",
    "        model,\n",
    "        initial='1095 days',  # 3 years\n",
    "        horizon='365 days',   # 1 year\n",
    "        period='365 days'     # 1 year\n",
    "    )\n",
    "    df_metrics = performance_metrics(df_cv)\n",
    "    mape = df_metrics['mape'].mean()\n",
    "    print(f\"Params: {params} -> MAPE: {mape:.4f}\")\n",
    "    return {'loss': mape, 'status': STATUS_OK}\n",
    "\n",
    "trials = Trials()\n",
    "best = fmin(\n",
    "    fn=objective,\n",
    "    space=space,\n",
    "    algo=tpe.suggest,\n",
    "    max_evals=20,  # Aumenta este valor para explorar más combinaciones\n",
    "    trials=trials\n",
    ")\n",
    "\n",
    "print(\"Mejores hiperparámetros encontrados:\")\n",
    "print(best)"
   ]
  },
  {
   "cell_type": "markdown",
   "metadata": {},
   "source": [
    "#### Modelo de Media Móvil (Benchmark)"
   ]
  },
  {
   "cell_type": "code",
   "execution_count": 45,
   "metadata": {},
   "outputs": [
    {
     "name": "stdout",
     "output_type": "stream",
     "text": [
      "Media Móvil (3) MAPE: 25.573689249078413\n"
     ]
    }
   ],
   "source": [
    "df_ma = df.copy()\n",
    "df_ma['MA_3'] = df_ma['SKU_25'].rolling(window=3).mean()\n",
    "\n",
    "pred_ma = []\n",
    "for i in range(len(train), len(df_ma)):\n",
    "    window_data = df_ma['SKU_25'].iloc[i-3:i]\n",
    "    pred_ma.append(window_data.mean())\n",
    "\n",
    "test_ma = test.copy()\n",
    "test_ma['MA_pred'] = pred_ma\n",
    "\n",
    "ma_mape = mean_absolute_percentage_error(test_ma['SKU_25'], test_ma['MA_pred']) * 100\n",
    "print(\"Media Móvil (3) MAPE:\", ma_mape)"
   ]
  },
  {
   "cell_type": "markdown",
   "metadata": {},
   "source": [
    "### Evaluación de modelos"
   ]
  },
  {
   "cell_type": "code",
   "execution_count": null,
   "metadata": {},
   "outputs": [
    {
     "name": "stdout",
     "output_type": "stream",
     "text": [
      "SARIMAX MAPE: 19.93%\n",
      "LSTM MAPE: 22.07%\n",
      "LSTM MAPE: 22.93%\n",
      "Prophet MAPE: 25.08%\n",
      "Media Móvil MAPE: 25.57%\n"
     ]
    }
   ],
   "source": [
    "# Para SARIMAX:\n",
    "mape_sarimax =  np.mean(sarimax_mape_list)\n",
    "print(\"SARIMAX MAPE: {:.2f}%\".format(mape_sarimax))\n",
    "\n",
    "# Para LSTM:\n",
    "mape_lstm = mean_absolute_percentage_error(y_val_inversed, preds_inversed) * 100\n",
    "print(\"LSTM MAPE: {:.2f}%\".format(mape_lstm))\n",
    "mape_LSTM_Backtest = np.mean(lstm_mape_list)\n",
    "print(\"LSTM MAPE Backtest: {:.2f}%\".format(mape_LSTM_Backtest))\n",
    "\n",
    "# Para Prophet:\n",
    "#mape_prophet = (test_prophet['y'], forecast_test['yhat'])*100\n",
    "#print(\"Prophet MAPE: {:.2f}%\".format(mape_prophet))\n",
    "prophet_mape1 = mean_absolute_percentage_error(test_prophet['y'], forecast_test['yhat'])*100\n",
    "print(\"Prophet MAPE: {:.2f}%\".format(prophet_mape1))\n",
    "\n",
    "# Para Media Móvil:\n",
    "mape_ma = ma_mape\n",
    "print(\"Media Móvil MAPE: {:.2f}%\".format(mape_ma))\n"
   ]
  },
  {
   "cell_type": "code",
   "execution_count": 50,
   "metadata": {},
   "outputs": [
    {
     "name": "stdout",
     "output_type": "stream",
     "text": [
      "\n",
      "Comparación de Modelos (MAPE):\n",
      "SARIMAX: 19.93%\n",
      "LSTM: 22.07%\n",
      "Prophet: 25.08%\n",
      "MediaMóvil: 25.57%\n",
      "\n",
      "El mejor modelo es SARIMAX con MAPE 19.93%.\n",
      "Reducción de error vs Media Móvil: 22.05%\n"
     ]
    }
   ],
   "source": [
    "resultados_modelos = {\n",
    "    'SARIMAX': np.mean(sarimax_mape_list),\n",
    "    'LSTM': mean_absolute_percentage_error(y_val_inversed, preds_inversed) * 100,\n",
    "    'Prophet': prophet_mape1,\n",
    "    'MediaMóvil': ma_mape\n",
    "}\n",
    "\n",
    "print(\"\\nComparación de Modelos (MAPE):\")\n",
    "for modelo, mape in resultados_modelos.items():\n",
    "    print(f\"{modelo}: {mape:.2f}%\")\n",
    "\n",
    "# Se escoge el mejor (mínimo MAPE) y se calcula la reducción de error vs la media móvil.\n",
    "mejor_modelo = min(resultados_modelos, key=lambda k: resultados_modelos[k] if not np.isnan(resultados_modelos[k]) else np.inf)\n",
    "mejor_mape = resultados_modelos[mejor_modelo]\n",
    "reduccion_error = ((ma_mape - mejor_mape) / ma_mape) * 100\n",
    "print(f\"\\nEl mejor modelo es {mejor_modelo} con MAPE {mejor_mape:.2f}%.\")\n",
    "print(f\"Reducción de error vs Media Móvil: {reduccion_error:.2f}%\")"
   ]
  },
  {
   "cell_type": "code",
   "execution_count": 51,
   "metadata": {},
   "outputs": [
    {
     "name": "stdout",
     "output_type": "stream",
     "text": [
      "El mejor modelo es SARIMAX con un MAPE de 19.93%.\n",
      "El mejor modelo se ha guardado en 'best_model.pkl'.\n"
     ]
    }
   ],
   "source": [
    "best_model_name = mejor_modelo\n",
    "best_mape = mejor_mape\n",
    "\n",
    "print(f\"El mejor modelo es {best_model_name} con un MAPE de {best_mape:.2f}%.\")\n",
    "\n",
    "# Guarda el modelo en disco usando pickle (para modelos de statsmodels o Keras, se puede usar pickle o joblib)\n",
    "with open(\"C:/Users/norma/OneDrive/Tecnoquimicas TQ/prueba_tq/modelsbest_model.pkl\", \"wb\") as file:\n",
    "    pickle.dump(model_results[best_model_name], file)\n",
    "\n",
    "print(\"El mejor modelo se ha guardado en 'best_model.pkl'.\")\n"
   ]
  },
  {
   "cell_type": "code",
   "execution_count": null,
   "metadata": {},
   "outputs": [],
   "source": [
    "########################################### FIN ###########################################"
   ]
  }
 ],
 "metadata": {
  "kernelspec": {
   "display_name": "venv",
   "language": "python",
   "name": "python3"
  },
  "language_info": {
   "codemirror_mode": {
    "name": "ipython",
    "version": 3
   },
   "file_extension": ".py",
   "mimetype": "text/x-python",
   "name": "python",
   "nbconvert_exporter": "python",
   "pygments_lexer": "ipython3",
   "version": "3.11.9"
  }
 },
 "nbformat": 4,
 "nbformat_minor": 2
}
